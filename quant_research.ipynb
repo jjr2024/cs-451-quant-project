{
 "cells": [
  {
   "cell_type": "raw",
   "metadata": {
    "vscode": {
     "languageId": "raw"
    }
   },
   "source": [
    "---\n",
    "title: Quantitative Trading Model Using LSTM\n",
    "author: Andre Xiao, James Ohr, Donovan Wood\n",
    "date: '2024-04-22'\n",
    "image: \"quant.jpg\"\n",
    "description: \"Final Project for CS451\"\n",
    "bibliography: refs.bib\n",
    "format: html\n",
    "---"
   ]
  },
  {
   "cell_type": "markdown",
   "metadata": {},
   "source": [
    "# Quantitative Trading Model Using LSTM\n",
    "#### Donovan Wood, James Ohr, Andre Xiao  \n",
    "## Abstract\n",
    "We applied machine learning methods to predict daily stock price movements in a basket of 10 US-listed energy companies. We found the most success using an LSTM model, achieving an accuracy of up to 61% on one stock (PSX). In line with prior literature, we compared our results to a benchmark established by a last value machine, which simply predicts the next day's price to be the current day's actual price. Comparing our LSTM results to our benchmark, we find mixed results. We achieve, on average, 53.7% accuracy vs. our benchmark's 52.8% accuracy. For the ten companies in our analysis, our model has superior for accuracy for 6 companies, has equal accuracy for 2 companies, and has worse accuracy for 2 companies compared to our last value benchmark. This superior accuracy leads to higher simulated portfolio returns using our model compared to our benchmarks.\n",
    "\n",
    "## Introduction\n",
    "In this blog post, we train machine learning models on historical stock market data to predict future stock price movements. This is a highly popular problem to address because of the potential for significant monetary gain. This is an important problem societally because stock markets are mechanisms of price discovery: they answer the question \"What is a company worth?\" Finding the right answer to that question allows society to correctly allocate more or less capital (money) to that company. On an individual level, this is an important problem to us as the authors because it's the problem for all quant trading: making a profitable model. \n",
    "\n",
    "An enormous body of literature within and without computer science exists for stock market prediction. Among the papers most relevant to our work are @gunduzEfficientPrediction2021, @bhandariLSTM2022, and @zhangPrediction2022.\n",
    "\n",
    "@gunduzEfficientPrediction2021 applies LSTM and ensemble learning (Light-GBM) models to predict the hourly directions of eight banking stocks in Borsa Istanbul. He achieved up to maximum success rate of 0.685 using individual features of bank stocks and LSTM.\n",
    "\n",
    "@bhandariLSTM2022 apply single-layer and multi-layer LSTM models to the problem of predicting the S&P 500, the index of the largest 500 publicly traded companies in America. Their single-layer LTSM model with 150 neurons is their best performing specification. Their set of predicted values have an average correlation coefficient of 0.9976 with actual S&P index values.\n",
    "\n",
    "@zhangPrediction2022 finds the LSTM network model does not perform better than other models when applied to a short forecasting horizon (1 to 10 days). Zhang's \"other models\" are linear regression, eXtreme gradient boosting (XGBoost), last value, and moving average.\n",
    "\n",
    "We take some of the \"best practices\" we observe in the above papers, specifically benchmarking with last value and calculating accuracy with MSE. Unlike the mentioned papers, we will be focusing on single stocks and attempting to build a model that outperforms the last value benchmark.\n",
    "\n",
    "## Values\n",
    "\n",
    "The potential users are anyone interested in making profitable trades in the stock market. They are the individuals most likely to directly benefit from our work. Nonusers who could be affected by our work are those engaged in the stock market. The obvious affected nonusers are those on the opposite side of each trade as a user. In every trade, there's a buyer and a seller, so in every trade, there's a winner and a loser. These opposing nonusers are the individuals who are most likely to be harmed by the success of our program. \n",
    "\n",
    "Ultimately, the point of the back and forth of markets is price discovery: to help society find the right prices of different companies. This leads to another nonuser effect: with better price discovery and more efficient markets, companies will raise money at prices that are closer to some \"true\" value, which is loosely defined as a value that best reflects the fundamental valuation of the company. Our model does not attempt to predict a true fundamental value for a company, but by making accurate predictions for the next day's price, it should accelerate the market's convergence to an appropriate value.\n",
    "\n",
    "A useful financial trading model should lead to a net societal benefit because better financial markets mean more or less money going to companies and therefore projects, leading to something closer to an \"optimal\" allocation of money in society.\n",
    "\n",
    "We are personally motivated to work on this project because of personal interest, professional relevance, and the difficulty of the problem. All three of us personally invest in the stock market. Two of us (Donovan & James) are double majors in economics and have had experience working in the financial services industry. Andre is interested in pursuing a master's in financial engineering after Middlebury. The problem itself is also inherently challenging: financial markets are constantly adapting and changing, making the findings of previous literature increasingly likely over time to be less applicable to today's markets. This forces us to adopt new techniques. \n",
    "# Materials and Methods \n",
    "\n",
    "## Our Data \n",
    "\n",
    "Our data was sourced from Yahoo Finance. We used the `yfinance` library to download historical stock price data for our 10 different stocks. We chose to focus on US-based oil companies. These companies are Exxon Mobil (XOM), Chevron (CVX), ConocoPhillips (COP), Enterprise Products Partners (EPD), Pioneer Natural Resources (PXD), EOG Resources (EOG), Duke Energy (DUK), Marathon Petroleum (MPC), Schlumberger (SLB), and Phillips 66 (PSX). We downloaded the data from May 6th, 2014 to May 6th, 2024. \n",
    "\n",
    "Within the `yfinance` dataset we were given the following columns: `Open`, `High`, `Low`, `Close`, `Adj Close`, `Volume`.\n",
    "\n",
    "`Open` is the opening price of the stock for the day. \n",
    "`High` is the highest price of the stock for the day. \n",
    "`Low` is the lowest price of the stock for the day. \n",
    "`Close` is the closing price of the stock for the day. \n",
    "`Adj Close` is the adjusted closing price of the stock for the day. \n",
    "`Volume` is the number of shares traded for the day.\n",
    "\n",
    " We used the `Close` column as our target variable for our model. We also created the following features: `SMA_20`, `SMA_50`, `Std_Dev`, `Z_Score`, `RSI`, `TTM_P/E` which will be discussed below. Here's a look at what the raw data looks like:"
   ]
  },
  {
   "cell_type": "code",
   "execution_count": 1,
   "metadata": {},
   "outputs": [],
   "source": [
    "#| echo: false\n",
    "\n",
    "from torch.autograd import Variable \n",
    "import torch.nn as nn\n",
    "import torch.optim as optim\n",
    "import torch.utils.data as data\n",
    "from torch.autograd import Variable \n",
    "import matplotlib.pyplot as plt\n",
    "from sklearn.model_selection import train_test_split\n",
    "import numpy as np\n",
    "import pandas as pd\n",
    "from datetime import datetime, timedelta\n",
    "from dateutil.relativedelta import relativedelta\n",
    "import torch"
   ]
  },
  {
   "cell_type": "code",
   "execution_count": 2,
   "metadata": {},
   "outputs": [
    {
     "data": {
      "text/html": [
       "<div>\n",
       "<style scoped>\n",
       "    .dataframe tbody tr th:only-of-type {\n",
       "        vertical-align: middle;\n",
       "    }\n",
       "\n",
       "    .dataframe tbody tr th {\n",
       "        vertical-align: top;\n",
       "    }\n",
       "\n",
       "    .dataframe thead th {\n",
       "        text-align: right;\n",
       "    }\n",
       "</style>\n",
       "<table border=\"1\" class=\"dataframe\">\n",
       "  <thead>\n",
       "    <tr style=\"text-align: right;\">\n",
       "      <th></th>\n",
       "      <th>Open</th>\n",
       "      <th>High</th>\n",
       "      <th>Low</th>\n",
       "      <th>Close</th>\n",
       "      <th>Volume</th>\n",
       "      <th>Dividends</th>\n",
       "      <th>Stock Splits</th>\n",
       "    </tr>\n",
       "    <tr>\n",
       "      <th>Date</th>\n",
       "      <th></th>\n",
       "      <th></th>\n",
       "      <th></th>\n",
       "      <th></th>\n",
       "      <th></th>\n",
       "      <th></th>\n",
       "      <th></th>\n",
       "    </tr>\n",
       "  </thead>\n",
       "  <tbody>\n",
       "    <tr>\n",
       "      <th>2014-05-06 00:00:00-04:00</th>\n",
       "      <td>66.050586</td>\n",
       "      <td>66.501227</td>\n",
       "      <td>65.928274</td>\n",
       "      <td>66.095650</td>\n",
       "      <td>9669800</td>\n",
       "      <td>0.00</td>\n",
       "      <td>0.0</td>\n",
       "    </tr>\n",
       "    <tr>\n",
       "      <th>2014-05-07 00:00:00-04:00</th>\n",
       "      <td>66.385376</td>\n",
       "      <td>66.597816</td>\n",
       "      <td>66.172931</td>\n",
       "      <td>66.378937</td>\n",
       "      <td>11007400</td>\n",
       "      <td>0.00</td>\n",
       "      <td>0.0</td>\n",
       "    </tr>\n",
       "    <tr>\n",
       "      <th>2014-05-08 00:00:00-04:00</th>\n",
       "      <td>66.366038</td>\n",
       "      <td>66.494794</td>\n",
       "      <td>65.773772</td>\n",
       "      <td>65.870338</td>\n",
       "      <td>8922500</td>\n",
       "      <td>0.00</td>\n",
       "      <td>0.0</td>\n",
       "    </tr>\n",
       "    <tr>\n",
       "      <th>2014-05-09 00:00:00-04:00</th>\n",
       "      <td>65.922184</td>\n",
       "      <td>66.226810</td>\n",
       "      <td>65.630524</td>\n",
       "      <td>66.077736</td>\n",
       "      <td>8948800</td>\n",
       "      <td>0.69</td>\n",
       "      <td>0.0</td>\n",
       "    </tr>\n",
       "    <tr>\n",
       "      <th>2014-05-12 00:00:00-04:00</th>\n",
       "      <td>66.324029</td>\n",
       "      <td>66.336990</td>\n",
       "      <td>65.805516</td>\n",
       "      <td>66.259216</td>\n",
       "      <td>8830500</td>\n",
       "      <td>0.00</td>\n",
       "      <td>0.0</td>\n",
       "    </tr>\n",
       "  </tbody>\n",
       "</table>\n",
       "</div>"
      ],
      "text/plain": [
       "                                Open       High        Low      Close  \\\n",
       "Date                                                                    \n",
       "2014-05-06 00:00:00-04:00  66.050586  66.501227  65.928274  66.095650   \n",
       "2014-05-07 00:00:00-04:00  66.385376  66.597816  66.172931  66.378937   \n",
       "2014-05-08 00:00:00-04:00  66.366038  66.494794  65.773772  65.870338   \n",
       "2014-05-09 00:00:00-04:00  65.922184  66.226810  65.630524  66.077736   \n",
       "2014-05-12 00:00:00-04:00  66.324029  66.336990  65.805516  66.259216   \n",
       "\n",
       "                             Volume  Dividends  Stock Splits  \n",
       "Date                                                          \n",
       "2014-05-06 00:00:00-04:00   9669800       0.00           0.0  \n",
       "2014-05-07 00:00:00-04:00  11007400       0.00           0.0  \n",
       "2014-05-08 00:00:00-04:00   8922500       0.00           0.0  \n",
       "2014-05-09 00:00:00-04:00   8948800       0.69           0.0  \n",
       "2014-05-12 00:00:00-04:00   8830500       0.00           0.0  "
      ]
     },
     "execution_count": 2,
     "metadata": {},
     "output_type": "execute_result"
    }
   ],
   "source": [
    "import yfinance as yf\n",
    "\n",
    "xom = yf.Ticker('XOM')\n",
    "data = xom.history(start='2014-05-06', end='2024-05-07')\n",
    "data.head()"
   ]
  },
  {
   "cell_type": "markdown",
   "metadata": {},
   "source": [
    "You can find the full implementation of our data at [lstm_data.py](./lstm_data.py) under the function `prepare_data()`.\n",
    "\n",
    "## Our Approach\n",
    "\n",
    "### Features of Our Data & Target Variable\n",
    "\n",
    "We used `SMA_20`, `SMA_50`, `Std_Dev`, `Z_Score`, `RSI`, `Close`, `TTM_P/E` as predictors for our models. \n",
    "\n",
    "The `SMA_20` and `SMA_50` are the 20-day and 50-day simple moving averages of the stock price. This means that the average closing price of the stock over the last 20 and 50 days, respectively.\n",
    "\n",
    " The `Std_Dev` is the standard deviation of the stock price meaning how much the stock price deviates from the mean.\n",
    " \n",
    " The `Z_Score` is the z-score of the stock price meaning how many standard deviations the stock price is from the mean.\n",
    " \n",
    " The `RSI` is the relative strength index of the stock price meaning how strong the stock price is relative to its past performance. It is calculated by taking the average of the gains and losses over a certain period of time.\n",
    " \n",
    " The `Close` is the closing price of the stock per day. \n",
    " \n",
    " The `TTM_P/E` is the trailing twelve months price-to-earnings ratio of the stock.\n",
    "\n",
    "We used the next day's `Close` price as the target variable for our model.\n",
    "\n",
    "### Data Manipulation\n",
    "\n",
    "We collected 10 years of data from May 7th, 2014 to May 7th, 2024 and used a train-test split of 90-10 in order to train our model on the first 9 years worth of the data and test it on the remaining 1 year's worth of data. We used a standard scaler for scaling our data in order to ensure that the data was normalized. We fit the scaler on the training data and then applied it to the test data to avoid any information leaking. We then combined the training data for each stock into one dataset. We used the closing price of the stock as the target variable for our model. \n",
    "\n",
    "Here's what our data looks like after creating our features and scaling the data:\n"
   ]
  },
  {
   "cell_type": "code",
   "execution_count": 9,
   "metadata": {},
   "outputs": [],
   "source": [
    "#| echo: false\n",
    "\n",
    "%load_ext autoreload\n",
    "%autoreload 2\n",
    "from lstm_model import LSTMModel\n",
    "from lstm_data import prepare_data, evaluate_lstm"
   ]
  },
  {
   "cell_type": "code",
   "execution_count": 5,
   "metadata": {},
   "outputs": [
    {
     "name": "stdout",
     "output_type": "stream",
     "text": [
      "(2041, 18)\n",
      "(2041, 18)\n",
      "(2041, 18)\n",
      "(2041, 18)\n",
      "(2041, 18)\n",
      "(2041, 18)\n",
      "(2041, 18)\n",
      "(2041, 18)\n",
      "(2041, 18)\n",
      "(2039, 18)\n"
     ]
    },
    {
     "data": {
      "text/html": [
       "<div>\n",
       "<style scoped>\n",
       "    .dataframe tbody tr th:only-of-type {\n",
       "        vertical-align: middle;\n",
       "    }\n",
       "\n",
       "    .dataframe tbody tr th {\n",
       "        vertical-align: top;\n",
       "    }\n",
       "\n",
       "    .dataframe thead th {\n",
       "        text-align: right;\n",
       "    }\n",
       "</style>\n",
       "<table border=\"1\" class=\"dataframe\">\n",
       "  <thead>\n",
       "    <tr style=\"text-align: right;\">\n",
       "      <th></th>\n",
       "      <th>Open</th>\n",
       "      <th>High</th>\n",
       "      <th>Low</th>\n",
       "      <th>Close</th>\n",
       "      <th>Volume</th>\n",
       "      <th>Dividends</th>\n",
       "      <th>Stock Splits</th>\n",
       "      <th>SMA_10</th>\n",
       "      <th>SMA_20</th>\n",
       "      <th>SMA_50</th>\n",
       "      <th>SMA_100</th>\n",
       "      <th>SMA_250</th>\n",
       "      <th>Std_Dev</th>\n",
       "      <th>Z_Score</th>\n",
       "      <th>RSI</th>\n",
       "      <th>TTM_EPS</th>\n",
       "      <th>TTM_P/E</th>\n",
       "      <th>Returns</th>\n",
       "      <th>Ticker</th>\n",
       "    </tr>\n",
       "  </thead>\n",
       "  <tbody>\n",
       "    <tr>\n",
       "      <th>2015-05-01</th>\n",
       "      <td>-0.139877</td>\n",
       "      <td>-0.131186</td>\n",
       "      <td>-0.112171</td>\n",
       "      <td>-0.102372</td>\n",
       "      <td>-0.540891</td>\n",
       "      <td>-0.127836</td>\n",
       "      <td>0.0</td>\n",
       "      <td>-0.149377</td>\n",
       "      <td>-0.173825</td>\n",
       "      <td>-0.178037</td>\n",
       "      <td>-0.063809</td>\n",
       "      <td>0.319177</td>\n",
       "      <td>-0.679899</td>\n",
       "      <td>1.186534</td>\n",
       "      <td>0.879810</td>\n",
       "      <td>0.650885</td>\n",
       "      <td>-0.095652</td>\n",
       "      <td>0.893755</td>\n",
       "      <td>XOM</td>\n",
       "    </tr>\n",
       "    <tr>\n",
       "      <th>2015-05-04</th>\n",
       "      <td>-0.080168</td>\n",
       "      <td>-0.096256</td>\n",
       "      <td>-0.064153</td>\n",
       "      <td>-0.092512</td>\n",
       "      <td>-0.732495</td>\n",
       "      <td>-0.127836</td>\n",
       "      <td>0.0</td>\n",
       "      <td>-0.142218</td>\n",
       "      <td>-0.166130</td>\n",
       "      <td>-0.178686</td>\n",
       "      <td>-0.064625</td>\n",
       "      <td>0.316818</td>\n",
       "      <td>-0.653447</td>\n",
       "      <td>1.177778</td>\n",
       "      <td>0.973574</td>\n",
       "      <td>0.650885</td>\n",
       "      <td>-0.095424</td>\n",
       "      <td>0.133773</td>\n",
       "      <td>XOM</td>\n",
       "    </tr>\n",
       "    <tr>\n",
       "      <th>2015-05-05</th>\n",
       "      <td>-0.059250</td>\n",
       "      <td>-0.088368</td>\n",
       "      <td>-0.080671</td>\n",
       "      <td>-0.111472</td>\n",
       "      <td>-0.577151</td>\n",
       "      <td>-0.127836</td>\n",
       "      <td>0.0</td>\n",
       "      <td>-0.135595</td>\n",
       "      <td>-0.160600</td>\n",
       "      <td>-0.179007</td>\n",
       "      <td>-0.065519</td>\n",
       "      <td>0.314254</td>\n",
       "      <td>-0.642309</td>\n",
       "      <td>0.791845</td>\n",
       "      <td>0.672028</td>\n",
       "      <td>0.650885</td>\n",
       "      <td>-0.095861</td>\n",
       "      <td>-0.329228</td>\n",
       "      <td>XOM</td>\n",
       "    </tr>\n",
       "    <tr>\n",
       "      <th>2015-05-06</th>\n",
       "      <td>-0.071422</td>\n",
       "      <td>-0.093252</td>\n",
       "      <td>-0.108715</td>\n",
       "      <td>-0.127401</td>\n",
       "      <td>-0.639387</td>\n",
       "      <td>-0.127836</td>\n",
       "      <td>0.0</td>\n",
       "      <td>-0.132800</td>\n",
       "      <td>-0.152615</td>\n",
       "      <td>-0.179993</td>\n",
       "      <td>-0.065441</td>\n",
       "      <td>0.311766</td>\n",
       "      <td>-0.751691</td>\n",
       "      <td>0.518618</td>\n",
       "      <td>0.427497</td>\n",
       "      <td>0.650885</td>\n",
       "      <td>-0.096229</td>\n",
       "      <td>-0.282009</td>\n",
       "      <td>XOM</td>\n",
       "    </tr>\n",
       "    <tr>\n",
       "      <th>2015-05-07</th>\n",
       "      <td>-0.134172</td>\n",
       "      <td>-0.163112</td>\n",
       "      <td>-0.142134</td>\n",
       "      <td>-0.149773</td>\n",
       "      <td>-0.767664</td>\n",
       "      <td>-0.127836</td>\n",
       "      <td>0.0</td>\n",
       "      <td>-0.132571</td>\n",
       "      <td>-0.146911</td>\n",
       "      <td>-0.181595</td>\n",
       "      <td>-0.065841</td>\n",
       "      <td>0.309079</td>\n",
       "      <td>-0.859103</td>\n",
       "      <td>0.047926</td>\n",
       "      <td>0.100195</td>\n",
       "      <td>0.650885</td>\n",
       "      <td>-0.096744</td>\n",
       "      <td>-0.387742</td>\n",
       "      <td>XOM</td>\n",
       "    </tr>\n",
       "    <tr>\n",
       "      <th>...</th>\n",
       "      <td>...</td>\n",
       "      <td>...</td>\n",
       "      <td>...</td>\n",
       "      <td>...</td>\n",
       "      <td>...</td>\n",
       "      <td>...</td>\n",
       "      <td>...</td>\n",
       "      <td>...</td>\n",
       "      <td>...</td>\n",
       "      <td>...</td>\n",
       "      <td>...</td>\n",
       "      <td>...</td>\n",
       "      <td>...</td>\n",
       "      <td>...</td>\n",
       "      <td>...</td>\n",
       "      <td>...</td>\n",
       "      <td>...</td>\n",
       "      <td>...</td>\n",
       "      <td>...</td>\n",
       "    </tr>\n",
       "    <tr>\n",
       "      <th>2023-05-31</th>\n",
       "      <td>1.493992</td>\n",
       "      <td>1.492097</td>\n",
       "      <td>1.543915</td>\n",
       "      <td>1.492743</td>\n",
       "      <td>0.823977</td>\n",
       "      <td>9.866377</td>\n",
       "      <td>0.0</td>\n",
       "      <td>1.628988</td>\n",
       "      <td>1.646566</td>\n",
       "      <td>1.783051</td>\n",
       "      <td>1.907624</td>\n",
       "      <td>2.559939</td>\n",
       "      <td>-0.559920</td>\n",
       "      <td>-1.147405</td>\n",
       "      <td>-0.892991</td>\n",
       "      <td>2.509161</td>\n",
       "      <td>0.151639</td>\n",
       "      <td>-0.654974</td>\n",
       "      <td>PXD</td>\n",
       "    </tr>\n",
       "    <tr>\n",
       "      <th>2023-06-01</th>\n",
       "      <td>1.483391</td>\n",
       "      <td>1.512614</td>\n",
       "      <td>1.526955</td>\n",
       "      <td>1.524835</td>\n",
       "      <td>-0.437747</td>\n",
       "      <td>-0.065789</td>\n",
       "      <td>0.0</td>\n",
       "      <td>1.629326</td>\n",
       "      <td>1.642216</td>\n",
       "      <td>1.787301</td>\n",
       "      <td>1.901785</td>\n",
       "      <td>2.554111</td>\n",
       "      <td>-0.530306</td>\n",
       "      <td>-0.787143</td>\n",
       "      <td>-0.702121</td>\n",
       "      <td>2.509161</td>\n",
       "      <td>0.151895</td>\n",
       "      <td>0.228341</td>\n",
       "      <td>PXD</td>\n",
       "    </tr>\n",
       "    <tr>\n",
       "      <th>2023-06-02</th>\n",
       "      <td>1.599061</td>\n",
       "      <td>1.610538</td>\n",
       "      <td>1.646389</td>\n",
       "      <td>1.639757</td>\n",
       "      <td>-0.099743</td>\n",
       "      <td>-0.065789</td>\n",
       "      <td>0.0</td>\n",
       "      <td>1.641226</td>\n",
       "      <td>1.645750</td>\n",
       "      <td>1.796633</td>\n",
       "      <td>1.898004</td>\n",
       "      <td>2.548417</td>\n",
       "      <td>-0.533016</td>\n",
       "      <td>0.224674</td>\n",
       "      <td>-0.082586</td>\n",
       "      <td>2.509161</td>\n",
       "      <td>0.152809</td>\n",
       "      <td>0.865684</td>\n",
       "      <td>PXD</td>\n",
       "    </tr>\n",
       "    <tr>\n",
       "      <th>2023-06-05</th>\n",
       "      <td>1.714025</td>\n",
       "      <td>1.615900</td>\n",
       "      <td>1.641850</td>\n",
       "      <td>1.573211</td>\n",
       "      <td>-0.521622</td>\n",
       "      <td>-0.065789</td>\n",
       "      <td>0.0</td>\n",
       "      <td>1.634785</td>\n",
       "      <td>1.638631</td>\n",
       "      <td>1.804880</td>\n",
       "      <td>1.893255</td>\n",
       "      <td>2.542460</td>\n",
       "      <td>-0.573248</td>\n",
       "      <td>-0.327881</td>\n",
       "      <td>-0.394452</td>\n",
       "      <td>2.509161</td>\n",
       "      <td>0.152280</td>\n",
       "      <td>-0.522197</td>\n",
       "      <td>PXD</td>\n",
       "    </tr>\n",
       "    <tr>\n",
       "      <th>2023-06-06</th>\n",
       "      <td>1.499646</td>\n",
       "      <td>1.524505</td>\n",
       "      <td>1.557530</td>\n",
       "      <td>1.587369</td>\n",
       "      <td>-0.346088</td>\n",
       "      <td>-0.065789</td>\n",
       "      <td>0.0</td>\n",
       "      <td>1.624858</td>\n",
       "      <td>1.632079</td>\n",
       "      <td>1.811949</td>\n",
       "      <td>1.888551</td>\n",
       "      <td>2.535855</td>\n",
       "      <td>-0.628913</td>\n",
       "      <td>-0.138994</td>\n",
       "      <td>-0.318751</td>\n",
       "      <td>2.509161</td>\n",
       "      <td>0.152392</td>\n",
       "      <td>0.087185</td>\n",
       "      <td>PXD</td>\n",
       "    </tr>\n",
       "  </tbody>\n",
       "</table>\n",
       "<p>20408 rows × 19 columns</p>\n",
       "</div>"
      ],
      "text/plain": [
       "                Open      High       Low     Close    Volume  Dividends  \\\n",
       "2015-05-01 -0.139877 -0.131186 -0.112171 -0.102372 -0.540891  -0.127836   \n",
       "2015-05-04 -0.080168 -0.096256 -0.064153 -0.092512 -0.732495  -0.127836   \n",
       "2015-05-05 -0.059250 -0.088368 -0.080671 -0.111472 -0.577151  -0.127836   \n",
       "2015-05-06 -0.071422 -0.093252 -0.108715 -0.127401 -0.639387  -0.127836   \n",
       "2015-05-07 -0.134172 -0.163112 -0.142134 -0.149773 -0.767664  -0.127836   \n",
       "...              ...       ...       ...       ...       ...        ...   \n",
       "2023-05-31  1.493992  1.492097  1.543915  1.492743  0.823977   9.866377   \n",
       "2023-06-01  1.483391  1.512614  1.526955  1.524835 -0.437747  -0.065789   \n",
       "2023-06-02  1.599061  1.610538  1.646389  1.639757 -0.099743  -0.065789   \n",
       "2023-06-05  1.714025  1.615900  1.641850  1.573211 -0.521622  -0.065789   \n",
       "2023-06-06  1.499646  1.524505  1.557530  1.587369 -0.346088  -0.065789   \n",
       "\n",
       "            Stock Splits    SMA_10    SMA_20    SMA_50   SMA_100   SMA_250  \\\n",
       "2015-05-01           0.0 -0.149377 -0.173825 -0.178037 -0.063809  0.319177   \n",
       "2015-05-04           0.0 -0.142218 -0.166130 -0.178686 -0.064625  0.316818   \n",
       "2015-05-05           0.0 -0.135595 -0.160600 -0.179007 -0.065519  0.314254   \n",
       "2015-05-06           0.0 -0.132800 -0.152615 -0.179993 -0.065441  0.311766   \n",
       "2015-05-07           0.0 -0.132571 -0.146911 -0.181595 -0.065841  0.309079   \n",
       "...                  ...       ...       ...       ...       ...       ...   \n",
       "2023-05-31           0.0  1.628988  1.646566  1.783051  1.907624  2.559939   \n",
       "2023-06-01           0.0  1.629326  1.642216  1.787301  1.901785  2.554111   \n",
       "2023-06-02           0.0  1.641226  1.645750  1.796633  1.898004  2.548417   \n",
       "2023-06-05           0.0  1.634785  1.638631  1.804880  1.893255  2.542460   \n",
       "2023-06-06           0.0  1.624858  1.632079  1.811949  1.888551  2.535855   \n",
       "\n",
       "             Std_Dev   Z_Score       RSI   TTM_EPS   TTM_P/E   Returns Ticker  \n",
       "2015-05-01 -0.679899  1.186534  0.879810  0.650885 -0.095652  0.893755    XOM  \n",
       "2015-05-04 -0.653447  1.177778  0.973574  0.650885 -0.095424  0.133773    XOM  \n",
       "2015-05-05 -0.642309  0.791845  0.672028  0.650885 -0.095861 -0.329228    XOM  \n",
       "2015-05-06 -0.751691  0.518618  0.427497  0.650885 -0.096229 -0.282009    XOM  \n",
       "2015-05-07 -0.859103  0.047926  0.100195  0.650885 -0.096744 -0.387742    XOM  \n",
       "...              ...       ...       ...       ...       ...       ...    ...  \n",
       "2023-05-31 -0.559920 -1.147405 -0.892991  2.509161  0.151639 -0.654974    PXD  \n",
       "2023-06-01 -0.530306 -0.787143 -0.702121  2.509161  0.151895  0.228341    PXD  \n",
       "2023-06-02 -0.533016  0.224674 -0.082586  2.509161  0.152809  0.865684    PXD  \n",
       "2023-06-05 -0.573248 -0.327881 -0.394452  2.509161  0.152280 -0.522197    PXD  \n",
       "2023-06-06 -0.628913 -0.138994 -0.318751  2.509161  0.152392  0.087185    PXD  \n",
       "\n",
       "[20408 rows x 19 columns]"
      ]
     },
     "execution_count": 5,
     "metadata": {},
     "output_type": "execute_result"
    }
   ],
   "source": [
    "tickers = ['XOM', 'CVX', 'COP', 'EPD', 'EOG', 'DUK', 'MPC', 'SLB', 'PSX', 'PXD']\n",
    "start = '2014-05-06'\n",
    "end = '2024-05-07'\n",
    "\n",
    "# preps data, see lstm_data.py, prints size of each ticker's dataset\n",
    "X_train, y_train, X_test, y_test, X_scalers, y_scalers, batch_size = prepare_data(tickers, start_date=start, end_date=end, test_size=0.1)\n",
    "X_train"
   ]
  },
  {
   "cell_type": "markdown",
   "metadata": {},
   "source": [
    "### Models We Employed\n",
    "\n",
    "Originally, we used rather simplistic models like logistic regression, Random Forest, and SVM in order to predict stock price movements. We utilized Recursive Feature Elimination (RFE) in order to determine the optimal features for prediction for each model. However, we found that these models were not able to predict stock price movements consistently with much accuracy. We then decided to use a Long Short-Term Memory (LSTM) model to predict stock price movements. `LSTM` models are a type of recurrent neural network (RNN) with the addition of \"gates\" notably the `input`, `forget` and `output` gates. These gates allow for the model to determine what information to retain or discard at each timestep, mitigating the vanishing descent issue found in traditional recurrent neural networks. The LSTM model accounts for the shortfalls of an RNN by capturing long-term dependencies in the data.\n",
    "\n",
    "The forget gate determines which information is either retained or discarded at each time step. It accepts the output from the previous time step $h_{t-1}$ and the input $x_t$ at the current time step. The forget gate is defined as:\n",
    "\n",
    "$$f_t = \\sigma(W_f \\cdot [h_{t-1}, x_t] + b_f)$$\n",
    "\n",
    "The input gate determines which information is stored in the cell state. It avoids feeding the unimportant information into the current memory cell. It has three different components: \n",
    "\n",
    "1) Getting the state of the cell that must be updated.\n",
    "2) Create a new cell state\n",
    "3) Update the cell state to the current cell state\n",
    "\n",
    "These are defined as: \n",
    "\n",
    "\\begin{aligned}\n",
    "i_{t} &= \\sigma(W_{t} \\cdot [h_{t-1}, x_{t}] + b_{i}) \\\\\n",
    "\\widetilde{C}_{t} &= \\tanh(W_{c} \\cdot [h_{t-1}, x_{t}] + b_{c}) \\\\\n",
    "C_{t} &= f_{t} \\ast C_{t-1} + i_{t} \\ast \\widetilde{C}_{t}\n",
    "\\end{aligned}\n",
    "\n",
    "The output gate determines how much of the newly created cell state will be discarded and how much will be passed to the output. It is defined as:\n",
    "\n",
    "$$o_{t} = \\sigma(W_{o} \\cdot [h_{t-1}, x_{t}] + b_{o})$$\n",
    "\n",
    "This output information is firstly determined by a sigmoid layer, then the newly created cell state is processed by a tanh layer. The output is then multiplied by the sigmoid layer to determine the final output of the LSTM cell.\n",
    "\n",
    "Which is defined as:\n",
    "\n",
    "$$h_{t} = o_{t} \\ast \\tanh(C_{t})$$\n",
    "\n",
    "Taking this all into account, the LSTM model is able to retain information from previous time steps and use it to predict future stock price movements while disregarding irrelevant information.\n",
    "\n",
    "The implementation of our LSTM model can be found at: [lstm_model.py](./lstm_model.py)\n",
    "\n",
    "### Training Our Models\n",
    "\n",
    "We first converted our wanted feature columns into a `torch` `Variable` to allow them to be differentiable. Then, we reshaped the data using `torch.reshape()` and `torch.utils.data.DataLoader` into `[batch_size, seq_len, input_size]`. "
   ]
  },
  {
   "cell_type": "code",
   "execution_count": 7,
   "metadata": {},
   "outputs": [
    {
     "data": {
      "text/plain": [
       "torch.Size([2041, 1, 7])"
      ]
     },
     "execution_count": 7,
     "metadata": {},
     "output_type": "execute_result"
    }
   ],
   "source": [
    "features = ['SMA_20', 'SMA_50', 'Std_Dev', 'Z_Score', 'RSI', 'Close', 'TTM_P/E']\n",
    "\n",
    "X_train_tensors = Variable(torch.Tensor(np.array(X_train[features])))\n",
    "y_train_tensors = Variable(torch.Tensor(y_train.values))\n",
    "X_train_final = torch.reshape(X_train_tensors, (X_train_tensors.shape[0], 1, X_train_tensors.shape[1]))\n",
    "\n",
    "# split data by ticker\n",
    "data_loader_train = torch.utils.data.DataLoader(\n",
    "    torch.utils.data.TensorDataset(X_train_final, y_train_tensors),\n",
    "    batch_size=batch_size,\n",
    "    shuffle=True\n",
    ")\n",
    "\n",
    "next(iter(data_loader_train))[0].shape"
   ]
  },
  {
   "cell_type": "markdown",
   "metadata": {},
   "source": [
    "\n",
    "We trained our model using our own personal devices. We used the `Adam` optimizer with a learning rate of 0.001. We trained the model for 1000 epochs for each stock in our dataset (10 total) and used the `torch.nn.MSELoss()` loss function to train the model."
   ]
  },
  {
   "cell_type": "markdown",
   "metadata": {},
   "source": [
    "MSE is defined as:\n",
    "\n",
    "$$MSE = \\frac{1}{n} \\sum_{i=1}^{n} (\\hat{y}_{i} - y_{i})^2$$\n",
    "\n",
    "Where $y_{i}$ is the true price and $\\hat{y}_{i}$ is the predicted price.\n",
    "\n",
    "As mentioned previously our model was trained on 90% of the data and tested on the remaining 10%.\n",
    "\n",
    "If the model predicted the next days price to be positive, we would purchase the stock at the closing price and sell it at the closing price the next day. If the model predicted the next days price to be negative, we would short the stock at the closing price and buy it back at the closing price the next day. We would then calculate the profit or loss percent change for each stock and compare it to the last value benchmark. \n",
    "\n",
    "Below is our training code:"
   ]
  },
  {
   "cell_type": "code",
   "execution_count": 9,
   "metadata": {},
   "outputs": [
    {
     "name": "stdout",
     "output_type": "stream",
     "text": [
      "Epoch: 0, loss: 0.93275\n",
      "Epoch: 100, loss: 0.00547\n",
      "Epoch: 200, loss: 0.00517\n",
      "Epoch: 300, loss: 0.00495\n",
      "Epoch: 400, loss: 0.00499\n",
      "Epoch: 500, loss: 0.00488\n",
      "Epoch: 600, loss: 0.00498\n",
      "Epoch: 700, loss: 0.00513\n",
      "Epoch: 800, loss: 0.00470\n",
      "Epoch: 900, loss: 0.00519\n"
     ]
    }
   ],
   "source": [
    "num_epochs = 1000 # 1000 epochs\n",
    "learning_rate = 0.001 # 0.001 lr\n",
    "\n",
    "input_size = X_train_final.shape[2] # number of features\n",
    "hidden_size = 32 # number of features in hidden state\n",
    "num_layers = 1 # number of stacked lstm layers\n",
    "window = 1 # number of windows, leave at 1, basically can ignore\n",
    "\n",
    "num_classes = 1 # number of output classes\n",
    "\n",
    "lstm = LSTMModel(num_classes, input_size, hidden_size, num_layers, seq_length=window, batch_size=batch_size) #our lstm class \n",
    "criterion = torch.nn.MSELoss()    # mean-squared error for regression\n",
    "optimizer = torch.optim.Adam(lstm.parameters(), lr=learning_rate) # ADAM optimizer\n",
    "\n",
    "# training loop\n",
    "for epoch in range(num_epochs):\n",
    "  for i, data in enumerate(data_loader_train):\n",
    "    X_, y_ = data\n",
    "    outputs = lstm.forward(X_) #forward pass\n",
    "    optimizer.zero_grad() #calculate the gradient, manually setting to 0\n",
    "  \n",
    "    # obtain the loss function\n",
    "    loss = criterion(outputs, y_.reshape(y_.size(0)*y_.size(1), 1))\n",
    "  \n",
    "    loss.backward() #calculates the loss of the loss function\n",
    "  \n",
    "    optimizer.step() #improve from loss, i.e backprop\n",
    "    # if (i + 1) % 50 == 0:\n",
    "    #     print(f\"Epoch {epoch}, batch {i:>3}, loss on batch: {loss.item():.3f}\")\n",
    "  if epoch % 100 == 0:\n",
    "    print(\"Epoch: %d, loss: %1.5f\" % (epoch, loss.item()))"
   ]
  },
  {
   "cell_type": "markdown",
   "metadata": {},
   "source": [
    "### Model Evaluation\n",
    "\n",
    "We evaluated our model by comparing the cumulative predicted stock price returns and accuracy to the actual cumulative stock price returns and accuracy and the cumulative last value benchmark returns and accuracy. The last value benchmark is defined as using the previous days value as the prediction for the current day. We would buy the stock at the current day's close price and sell at the next day's close price if the predicted returns were positive and do nothing if the predicted returns were negative. We followed the same principle in calculating actual cumulative stock returns and accuracy, and the cumulative last value benchmark returns and accuracy.\n",
    "\n",
    "We define accuracy for our purposes as percentage of times the model correctly predicts an upward or downward movement in the share price of a company. \n",
    "\n",
    "Consider a simple test case where the model predicts the stock price to go up and the stock price actually goes up. In this case, the model is correct. If the model predicts the stock price to go up and the stock price actually goes down, the model is incorrect. We calculate the accuracy of the model by dividing the number of correct predictions by the total number of predictions.\n",
    "\n",
    "**Accuracy per Stock**"
   ]
  },
  {
   "cell_type": "code",
   "execution_count": 10,
   "metadata": {},
   "outputs": [
    {
     "name": "stdout",
     "output_type": "stream",
     "text": [
      "XOM Accuracy: 0.5330396475770925, Last Value Benchmark: 0.5242290748898678\n",
      "CVX Accuracy: 0.5022026431718062, Last Value Benchmark: 0.5066079295154186\n",
      "COP Accuracy: 0.5506607929515418, Last Value Benchmark: 0.5418502202643172\n",
      "EPD Accuracy: 0.5242290748898678, Last Value Benchmark: 0.5286343612334802\n",
      "EOG Accuracy: 0.5418502202643172, Last Value Benchmark: 0.5462555066079295\n",
      "DUK Accuracy: 0.4933920704845815, Last Value Benchmark: 0.4933920704845815\n",
      "MPC Accuracy: 0.5726872246696035, Last Value Benchmark: 0.5462555066079295\n",
      "SLB Accuracy: 0.4713656387665198, Last Value Benchmark: 0.4713656387665198\n",
      "PSX Accuracy: 0.6299559471365639, Last Value Benchmark: 0.6123348017621145\n",
      "PXD Accuracy: 0.5110132158590308, Last Value Benchmark: 0.5110132158590308\n"
     ]
    }
   ],
   "source": [
    "#| code-fold: true\n",
    "\n",
    "for i in range(10):\n",
    "    cum_strat_returns, cum_stock_returns, cum_lv_returns, accuracy, lv_accuracy = evaluate_lstm(lstm, X_test[i], y_test[i], X_scalers[i], y_scalers[i], features)\n",
    "    if i == 0:\n",
    "        cum_strat_returns_list = np.array([cum_strat_returns])\n",
    "        cum_stock_returns_list = np.array([cum_stock_returns])\n",
    "        cum_lv_returns_list = np.array([cum_lv_returns])\n",
    "        accuracy_list = np.array([accuracy])\n",
    "        lv_accuracy_list = np.array([lv_accuracy])\n",
    "    else:\n",
    "        cum_strat_returns_list = np.append(cum_strat_returns_list, np.array([cum_strat_returns]), axis=0)\n",
    "        cum_stock_returns_list = np.append(cum_stock_returns_list, np.array([cum_stock_returns]), axis=0)\n",
    "        cum_lv_returns_list = np.append(cum_lv_returns_list, np.array([cum_lv_returns]), axis=0)\n",
    "        accuracy_list = np.append(accuracy_list, np.array([accuracy]), axis=0)\n",
    "        lv_accuracy_list = np.append(lv_accuracy_list, np.array([lv_accuracy]), axis=0)"
   ]
  },
  {
   "cell_type": "markdown",
   "metadata": {},
   "source": [
    "**Average Accuracy**\n",
    "\n",
    "Below shows the overall accuracy, summed across our 10 stocks, vs the Last Value Benchmark.\n",
    "\n",
    "We find that the average accuracy our our model slightly outperforms the last value benchmark."
   ]
  },
  {
   "cell_type": "code",
   "execution_count": 12,
   "metadata": {},
   "outputs": [
    {
     "name": "stdout",
     "output_type": "stream",
     "text": [
      "Avg Accuracy: 0.5330396475770925, Avg LV Benchmark: 0.528193832599119\n"
     ]
    }
   ],
   "source": [
    "#| code-fold: true\n",
    "\n",
    "print(f'Avg Accuracy: {accuracy_list.mean()}, Avg LV Benchmark: {lv_accuracy_list.mean()}')"
   ]
  },
  {
   "cell_type": "markdown",
   "metadata": {},
   "source": [
    "**Cumulative Returns**\n",
    "\n",
    "The code below shows the comparison between our strategy returns, the baseline stock returns, and the last value benchmark returns.\n",
    "\n",
    "We find that our strategy outperforms the baseline stock returns and the last value benchmark returns.\n"
   ]
  },
  {
   "cell_type": "code",
   "execution_count": 14,
   "metadata": {},
   "outputs": [
    {
     "name": "stdout",
     "output_type": "stream",
     "text": [
      "1 Year Portfolio Returns: 1.2400711950910845\n",
      "1 Year Stock Returns: 1.2306795157790742\n",
      "1 Year LV Returns: 1.1996892304430697\n"
     ]
    },
    {
     "data": {
      "image/png": "[encoded data removed]",
      "text/plain": [
       "<Figure size 1000x500 with 1 Axes>"
      ]
     },
     "metadata": {},
     "output_type": "display_data"
    }
   ],
   "source": [
    "#| code-fold: true\n",
    "#| fig-cap: A comparison of cumulative returns between our strategy returns, baseline stock returns, and the last value benchmark.\n",
    "#| label: fig-returns\n",
    "\n",
    "df_strat_returns = pd.DataFrame(cum_strat_returns_list.transpose(), columns=tickers)\n",
    "df_strat_returns['Cum_Strat_Returns'] = df_strat_returns.mean(axis=1)\n",
    "df_strat_returns.index = X_test[0].index\n",
    "\n",
    "df_stock_returns = pd.DataFrame(cum_stock_returns_list.transpose(), columns=tickers)\n",
    "df_stock_returns['Cum_Stock_Returns'] = df_stock_returns.mean(axis=1)\n",
    "df_stock_returns.index = X_test[0].index\n",
    "\n",
    "df_lv_returns = pd.DataFrame(cum_lv_returns_list.transpose(), columns=tickers)\n",
    "df_lv_returns['Cum_LV_Returns'] = df_lv_returns.mean(axis=1)\n",
    "df_lv_returns.index = X_test[0].index\n",
    "\n",
    "total_strat_returns = df_strat_returns['Cum_Strat_Returns'].iloc[-1]\n",
    "total_stock_returns = df_stock_returns['Cum_Stock_Returns'].iloc[-1]\n",
    "total_lv_returns = df_lv_returns['Cum_LV_Returns'].iloc[-1]\n",
    "\n",
    "print(f'1 Year Portfolio Returns: {total_strat_returns}')\n",
    "print(f'1 Year Stock Returns: {total_stock_returns}')\n",
    "print(f'1 Year LV Returns: {total_lv_returns}')\n",
    "\n",
    "plt.figure(figsize=(10,5))\n",
    "plt.plot(df_strat_returns['Cum_Strat_Returns'], label='Strategy Returns')\n",
    "plt.plot(df_stock_returns['Cum_Stock_Returns'], label='Stock Returns')\n",
    "plt.plot(df_lv_returns['Cum_LV_Returns'], label='Last Value Benchmark')\n",
    "plt.legend();"
   ]
  },
  {
   "cell_type": "markdown",
   "metadata": {},
   "source": [
    "## Live Mock Testing"
   ]
  },
  {
   "cell_type": "code",
   "execution_count": 6,
   "metadata": {},
   "outputs": [
    {
     "name": "stdout",
     "output_type": "stream",
     "text": [
      "(2469, 15)\n",
      "(2469, 15)\n",
      "(2469, 15)\n",
      "(2469, 15)\n",
      "(2469, 15)\n",
      "(2469, 15)\n",
      "(2469, 15)\n",
      "(2469, 15)\n",
      "(2469, 15)\n",
      "(2469, 15)\n"
     ]
    }
   ],
   "source": [
    "# Can probably replace with prepare_data then replacing train_test_split\n",
    "\n",
    "from sklearn.preprocessing import StandardScaler\n",
    "\n",
    "tickers = ['XOM', 'CVX', 'COP', 'EPD', 'EOG', 'DUK', 'MPC', 'SLB', 'PSX', 'OXY']\n",
    "start = '2014-05-06'\n",
    "end = '2024-05-17'\n",
    "\n",
    "\n",
    "X_train_list = []\n",
    "y_train_list = []\n",
    "X_test_list = []\n",
    "y_test_list = []\n",
    "X_scalers = []\n",
    "y_scalers = []\n",
    "\n",
    "for t in tickers:\n",
    "    ticker_data = yf.Ticker(t)\n",
    "    data = ticker_data.history(start=start, end=end)\n",
    "\n",
    "    # Calculate moving averages and std\n",
    "    data['SMA_20'] = data['Close'].rolling(window=20).mean()\n",
    "    data['SMA_50'] = data['Close'].rolling(window=50).mean()\n",
    "    data['Std_Dev'] = data['Close'].rolling(window=20).std()\n",
    "\n",
    "    # Calculate the z-score\n",
    "    data['Z_Score'] = (data['Close'] - data['SMA_20']) / data['Std_Dev']\n",
    "\n",
    "    # Calculate RSI\n",
    "    delta = data['Close'].diff()\n",
    "    up = delta.clip(lower=0)\n",
    "    down = -1 * delta.clip(upper=0)\n",
    "    ema_up = up.ewm(com=13, adjust=False).mean()\n",
    "    ema_down = down.ewm(com=13, adjust=False).mean()\n",
    "    rs = ema_up / ema_down\n",
    "\n",
    "    data['RSI'] = 100 - (100 / (1 + rs))\n",
    "    # Calculate TTM EPS and P/E\n",
    "    eps = ticker_data.get_earnings_dates(limit=60)\n",
    "    eps = eps.loc[~eps.index.duplicated(keep='first'), :]\n",
    "    eps = eps[(eps.index >= (data.index[0]-relativedelta(years=1))) & (eps.index <= data.index[-1])]\n",
    "\n",
    "    # Need to clean data for DUK since earnings were not updated for the 2024-05-07 earnings call and duplicate entry\n",
    "    if t == 'DUK':\n",
    "        eps.loc[eps.index == pd.to_datetime('2024-05-07').date(), 'Reported EPS'] = 1.44\n",
    "    eps = eps.iloc[::-1]\n",
    "    eps['TTM'] = eps['Reported EPS'].rolling(window=4).sum()\n",
    "    eps.index = eps.index.date\n",
    "    idx = pd.date_range(eps.index[0], eps.index[-1])\n",
    "    eps = eps.reindex(idx.date, fill_value=np.nan)\n",
    "    data.index = data.index.date\n",
    "    data['TTM_EPS'] = eps['TTM'].copy()\n",
    "    data[data['TTM_EPS'].notna()]\n",
    "    data['TTM_EPS'] = data['TTM_EPS'].ffill()\n",
    "    data['TTM_EPS'] = data['TTM_EPS'].fillna(eps['TTM'].loc[eps['TTM'].notna()].iloc[0])\n",
    "    data['TTM_P/E'] = data['Close'] / data['TTM_EPS']\n",
    "\n",
    "    # Calculate the daily returns\n",
    "    data['Returns'] = data['Close'].pct_change()\n",
    "\n",
    "    # Drop any NaNs\n",
    "\n",
    "    # If stock price goes up or down\n",
    "    data['Target'] = data['Close'].shift(-1)\n",
    "    data.dropna(inplace=True)\n",
    "    #features = ['Ticker', 'SMA_20', 'SMA_50', 'Std_Dev', 'Z_Score', 'RSI', 'Returns']\n",
    "    X = data.loc[:, data.columns != 'Target']\n",
    "    y = data.iloc[:, (data.shape[1]-1):(data.shape[1])]\n",
    "    #X_train, X_test, y_train, y_test = train_test_split(X, y, test_size=test_size, random_state=42, shuffle=False)\n",
    "    X_train = X.loc[X.index < pd.to_datetime('2024-05-07').date(),:]\n",
    "    y_train = y.loc[y.index < pd.to_datetime('2024-05-07').date(),:]\n",
    "\n",
    "    X_test = X.loc[X.index >= pd.to_datetime('2024-05-07').date(),:]\n",
    "    y_test = y.loc[y.index >= pd.to_datetime('2024-05-07').date(),:]\n",
    "\n",
    "    if t == 'PXD':\n",
    "        print(X)\n",
    "        print(y)\n",
    "\n",
    "    \n",
    "    ss1 = StandardScaler()\n",
    "    ss2 = StandardScaler()\n",
    "    #mm = MinMaxScaler()\n",
    "\n",
    "    X_train_ss = pd.DataFrame(ss1.fit_transform(X_train), index=X_train.index, columns=X_train.columns) # fit ss and transform X_train\n",
    "    y_train_mm = pd.DataFrame(ss2.fit_transform(y_train), index=y_train.index, columns=y_train.columns) # fit mm and transform y_train\n",
    "    X_test_ss = pd.DataFrame(ss1.transform(X_test), index=X_test.index, columns=X_test.columns) # transform X_test with fitted ss\n",
    "    y_test_mm = pd.DataFrame(ss2.transform(y_test), index=y_test.index, columns=y_test.columns) # transform y_test with fitted mm\n",
    "    X_train_ss['Ticker'] = t\n",
    "    X_test_ss['Ticker'] = t\n",
    "    print(X_train.shape)\n",
    "    X_train_list.append(X_train_ss)\n",
    "    y_train_list.append(y_train_mm)\n",
    "    X_test_list.append(X_test_ss)\n",
    "    y_test_list.append(y_test_mm)\n",
    "    X_scalers.append(ss1)\n",
    "    y_scalers.append(ss2)\n",
    "batch_size = X_train_list[0].shape[0]"
   ]
  },
  {
   "cell_type": "code",
   "execution_count": 7,
   "metadata": {},
   "outputs": [],
   "source": [
    "X_train = pd.concat(X_train_list)\n",
    "y_train = pd.concat(y_train_list)\n",
    "\n",
    "features = ['SMA_20', 'SMA_50', 'Std_Dev', 'Z_Score', 'RSI', 'Close', 'TTM_P/E']\n",
    "\n",
    "X_train_tensors = Variable(torch.Tensor(np.array(X_train[features])))\n",
    "y_train_tensors = Variable(torch.Tensor(y_train.values))\n",
    "X_train_final = torch.reshape(X_train_tensors, (X_train_tensors.shape[0], 1, X_train_tensors.shape[1]))\n",
    "\n",
    "data_loader_train = torch.utils.data.DataLoader(\n",
    "    torch.utils.data.TensorDataset(X_train_final, y_train_tensors),\n",
    "    batch_size=batch_size,\n",
    "    shuffle=True\n",
    ")"
   ]
  },
  {
   "cell_type": "code",
   "execution_count": 10,
   "metadata": {},
   "outputs": [
    {
     "name": "stdout",
     "output_type": "stream",
     "text": [
      "Epoch: 0, loss: 0.84195\n",
      "Epoch: 100, loss: 0.00394\n",
      "Epoch: 200, loss: 0.00331\n",
      "Epoch: 300, loss: 0.00373\n",
      "Epoch: 400, loss: 0.00346\n",
      "Epoch: 500, loss: 0.00343\n",
      "Epoch: 600, loss: 0.00363\n",
      "Epoch: 700, loss: 0.00348\n",
      "Epoch: 800, loss: 0.00346\n",
      "Epoch: 900, loss: 0.00394\n"
     ]
    }
   ],
   "source": [
    "num_epochs = 1000 # 1000 epochs\n",
    "learning_rate = 0.001 # 0.001 lr\n",
    "\n",
    "input_size = X_train_final.shape[2] # number of features\n",
    "hidden_size = 32 # number of features in hidden state\n",
    "num_layers = 1 # number of stacked lstm layers\n",
    "window = 1 # number of windows, leave at 1, basically can ignore\n",
    "\n",
    "num_classes = 1 # number of output classes\n",
    "\n",
    "lstm_live = LSTMModel(num_classes, input_size, hidden_size, num_layers, seq_length=window, batch_size=batch_size) #our lstm class \n",
    "criterion = torch.nn.MSELoss()    # mean-squared error for regression\n",
    "optimizer = torch.optim.Adam(lstm_live.parameters(), lr=learning_rate) # ADAM optimizer\n",
    "\n",
    "for epoch in range(num_epochs):\n",
    "  for i, data in enumerate(data_loader_train):\n",
    "    X_, y_ = data\n",
    "    outputs = lstm_live.forward(X_) #forward pass\n",
    "    optimizer.zero_grad() #calculate the gradient, manually setting to 0\n",
    "  \n",
    "    # obtain the loss function\n",
    "    loss = criterion(outputs, y_.reshape(y_.size(0)*y_.size(1), 1))\n",
    "  \n",
    "    loss.backward() #calculates the loss of the loss function\n",
    "  \n",
    "    optimizer.step() #improve from loss, i.e backprop\n",
    "    # if (i + 1) % 50 == 0:\n",
    "    #     print(f\"Epoch {epoch}, batch {i:>3}, loss on batch: {loss.item():.3f}\")\n",
    "  if epoch % 100 == 0:\n",
    "    print(\"Epoch: %d, loss: %1.5f\" % (epoch, loss.item()))"
   ]
  },
  {
   "cell_type": "code",
   "execution_count": 11,
   "metadata": {},
   "outputs": [],
   "source": [
    "# could be useful\n",
    "\n",
    "from joblib import dump, load"
   ]
  },
  {
   "cell_type": "code",
   "execution_count": 12,
   "metadata": {},
   "outputs": [
    {
     "data": {
      "text/plain": [
       "['lstm.joblib']"
      ]
     },
     "execution_count": 12,
     "metadata": {},
     "output_type": "execute_result"
    }
   ],
   "source": [
    "# saves model in .joblib file\n",
    "\n",
    "dump(lstm_live, 'lstm.joblib')"
   ]
  },
  {
   "cell_type": "code",
   "execution_count": 13,
   "metadata": {},
   "outputs": [],
   "source": [
    "lstm_live = load('lstm.joblib')"
   ]
  },
  {
   "cell_type": "code",
   "execution_count": 15,
   "metadata": {},
   "outputs": [
    {
     "name": "stdout",
     "output_type": "stream",
     "text": [
      "XOM Accuracy: 0.5, Last Value Benchmark: 0.5\n",
      "CVX Accuracy: 0.6666666666666666, Last Value Benchmark: 0.5\n",
      "COP Accuracy: 0.6666666666666666, Last Value Benchmark: 0.6666666666666666\n",
      "EPD Accuracy: 0.3333333333333333, Last Value Benchmark: 0.5\n",
      "EOG Accuracy: 0.3333333333333333, Last Value Benchmark: 0.5\n",
      "DUK Accuracy: 0.3333333333333333, Last Value Benchmark: 0.5\n",
      "MPC Accuracy: 0.6666666666666666, Last Value Benchmark: 0.6666666666666666\n",
      "SLB Accuracy: 0.6666666666666666, Last Value Benchmark: 0.5\n",
      "PSX Accuracy: 0.6666666666666666, Last Value Benchmark: 0.8333333333333334\n",
      "OXY Accuracy: 0.3333333333333333, Last Value Benchmark: 0.3333333333333333\n"
     ]
    }
   ],
   "source": [
    "for i in range(10):\n",
    "    cum_strat_returns, cum_stock_returns, cum_lv_returns, accuracy, lv_accuracy = evaluate_lstm(lstm_live, X_test_list[i], y_test_list[i], X_scalers[i], y_scalers[i], features)\n",
    "    if i == 0:\n",
    "        cum_strat_returns_list = np.array([cum_strat_returns])\n",
    "        cum_stock_returns_list = np.array([cum_stock_returns])\n",
    "        cum_lv_returns_list = np.array([cum_lv_returns])\n",
    "        accuracy_list = np.array([accuracy])\n",
    "        lv_accuracy_list = np.array([lv_accuracy])\n",
    "        #Adding correl\n",
    "        #correl_list = np.array([X_test_list[i]['Predicted_Price'].corr(X_test_list[i]['Close'])])\n",
    "    else:\n",
    "        cum_strat_returns_list = np.append(cum_strat_returns_list, np.array([cum_strat_returns]), axis=0)\n",
    "        cum_stock_returns_list = np.append(cum_stock_returns_list, np.array([cum_stock_returns]), axis=0)\n",
    "        cum_lv_returns_list = np.append(cum_lv_returns_list, np.array([cum_lv_returns]), axis=0)\n",
    "        accuracy_list = np.append(accuracy_list, np.array([accuracy]), axis=0)\n",
    "        lv_accuracy_list = np.append(lv_accuracy_list, np.array([lv_accuracy]), axis=0)\n",
    "        #correl_list = np.append(correl_list, np.array([X_test[i]['Predicted_list_Price'].corr(X_test_list[i]['Close'])]), axis=0)"
   ]
  },
  {
   "cell_type": "code",
   "execution_count": 16,
   "metadata": {},
   "outputs": [
    {
     "name": "stdout",
     "output_type": "stream",
     "text": [
      "Avg Accuracy: 0.5166666666666666, Avg LV Benchmark: 0.5499999999999999\n"
     ]
    }
   ],
   "source": [
    "#| code-fold: true\n",
    "\n",
    "print(f'Avg Accuracy: {accuracy_list.mean()}, Avg LV Benchmark: {lv_accuracy_list.mean()}')"
   ]
  },
  {
   "cell_type": "code",
   "execution_count": 19,
   "metadata": {},
   "outputs": [
    {
     "name": "stdout",
     "output_type": "stream",
     "text": [
      "1 Week Portfolio Returns: 0.9987121744901823\n",
      "1 Week Stock Returns: 0.9968738574121445\n",
      "1 Week LV Returns: 0.9952073325941001\n"
     ]
    },
    {
     "data": {
      "image/png": "[encoded data removed]",
      "text/plain": [
       "<Figure size 1000x500 with 1 Axes>"
      ]
     },
     "metadata": {},
     "output_type": "display_data"
    }
   ],
   "source": [
    "#| code-fold: true\n",
    "#| fig-cap: A comparison of cumulative returns between our strategy returns, baseline stock returns, and the last value benchmark for 2024-05-07 to 2024-05-16\n",
    "#| label: fig-returns-live\n",
    "\n",
    "df_strat_returns = pd.DataFrame(cum_strat_returns_list.transpose(), columns=tickers)\n",
    "df_strat_returns['Cum_Strat_Returns'] = df_strat_returns.mean(axis=1)\n",
    "df_strat_returns.index = X_test_list[0].index\n",
    "\n",
    "df_stock_returns = pd.DataFrame(cum_stock_returns_list.transpose(), columns=tickers)\n",
    "df_stock_returns['Cum_Stock_Returns'] = df_stock_returns.mean(axis=1)\n",
    "df_stock_returns.index = X_test_list[0].index\n",
    "\n",
    "df_lv_returns = pd.DataFrame(cum_lv_returns_list.transpose(), columns=tickers)\n",
    "df_lv_returns['Cum_LV_Returns'] = df_lv_returns.mean(axis=1)\n",
    "df_lv_returns.index = X_test_list[0].index\n",
    "\n",
    "total_strat_returns = df_strat_returns['Cum_Strat_Returns'].iloc[-1]\n",
    "total_stock_returns = df_stock_returns['Cum_Stock_Returns'].iloc[-1]\n",
    "total_lv_returns = df_lv_returns['Cum_LV_Returns'].iloc[-1]\n",
    "\n",
    "print(f'1 Week Portfolio Returns: {total_strat_returns}')\n",
    "print(f'1 Week Stock Returns: {total_stock_returns}')\n",
    "print(f'1 Week LV Returns: {total_lv_returns}')\n",
    "\n",
    "plt.figure(figsize=(10,5))\n",
    "plt.plot(df_strat_returns['Cum_Strat_Returns'], label='Strategy Returns')\n",
    "plt.plot(df_stock_returns['Cum_Stock_Returns'], label='Stock Returns')\n",
    "plt.plot(df_lv_returns['Cum_LV_Returns'], label='Last Value Benchmark')\n",
    "plt.legend();"
   ]
  },
  {
   "cell_type": "code",
   "execution_count": 25,
   "metadata": {},
   "outputs": [
    {
     "name": "stderr",
     "output_type": "stream",
     "text": [
      "[*********************100%%**********************]  1 of 1 completed\n",
      "[*********************100%%**********************]  1 of 1 completed\n",
      "[*********************100%%**********************]  1 of 1 completed"
     ]
    },
    {
     "name": "stdout",
     "output_type": "stream",
     "text": [
      "(2466, 15)\n",
      "(2466, 15)\n"
     ]
    },
    {
     "name": "stderr",
     "output_type": "stream",
     "text": [
      "\n"
     ]
    },
    {
     "name": "stdout",
     "output_type": "stream",
     "text": [
      "(2466, 15)\n"
     ]
    },
    {
     "name": "stderr",
     "output_type": "stream",
     "text": [
      "[*********************100%%**********************]  1 of 1 completed\n",
      "[*********************100%%**********************]  1 of 1 completed"
     ]
    },
    {
     "name": "stdout",
     "output_type": "stream",
     "text": [
      "(2466, 15)\n"
     ]
    },
    {
     "name": "stderr",
     "output_type": "stream",
     "text": [
      "\n",
      "[*********************100%%**********************]  1 of 1 completed\n",
      "[*********************100%%**********************]  1 of 1 completed"
     ]
    },
    {
     "name": "stdout",
     "output_type": "stream",
     "text": [
      "(2466, 15)\n",
      "(2466, 15)\n"
     ]
    },
    {
     "name": "stderr",
     "output_type": "stream",
     "text": [
      "\n",
      "[*********************100%%**********************]  1 of 1 completed\n",
      "[*********************100%%**********************]  1 of 1 completed"
     ]
    },
    {
     "name": "stdout",
     "output_type": "stream",
     "text": [
      "(2466, 15)\n",
      "(2466, 15)\n"
     ]
    },
    {
     "name": "stderr",
     "output_type": "stream",
     "text": [
      "\n",
      "[*********************100%%**********************]  1 of 1 completed\n"
     ]
    },
    {
     "name": "stdout",
     "output_type": "stream",
     "text": [
      "(2466, 15)\n",
      "(2466, 15)\n"
     ]
    },
    {
     "name": "stderr",
     "output_type": "stream",
     "text": [
      "[*********************100%%**********************]  1 of 1 completed\n",
      "[*********************100%%**********************]  1 of 1 completed\n",
      "[*********************100%%**********************]  1 of 1 completed"
     ]
    },
    {
     "name": "stdout",
     "output_type": "stream",
     "text": [
      "(2466, 15)\n",
      "(2466, 15)\n"
     ]
    },
    {
     "name": "stderr",
     "output_type": "stream",
     "text": [
      "\n",
      "[*********************100%%**********************]  1 of 1 completed"
     ]
    },
    {
     "name": "stdout",
     "output_type": "stream",
     "text": [
      "(2466, 15)\n"
     ]
    },
    {
     "name": "stderr",
     "output_type": "stream",
     "text": [
      "\n",
      "[*********************100%%**********************]  1 of 1 completed"
     ]
    },
    {
     "name": "stdout",
     "output_type": "stream",
     "text": [
      "(2466, 15)\n"
     ]
    },
    {
     "name": "stderr",
     "output_type": "stream",
     "text": [
      "\n",
      "[*********************100%%**********************]  1 of 1 completed\n",
      "[*********************100%%**********************]  1 of 1 completed"
     ]
    },
    {
     "name": "stdout",
     "output_type": "stream",
     "text": [
      "(2466, 15)\n",
      "(2466, 15)\n"
     ]
    },
    {
     "name": "stderr",
     "output_type": "stream",
     "text": [
      "\n",
      "[*********************100%%**********************]  1 of 1 completed\n",
      "[*********************100%%**********************]  1 of 1 completed"
     ]
    },
    {
     "name": "stdout",
     "output_type": "stream",
     "text": [
      "(2466, 15)\n",
      "(2466, 15)\n"
     ]
    },
    {
     "name": "stderr",
     "output_type": "stream",
     "text": [
      "\n",
      "[*********************100%%**********************]  1 of 1 completed\n"
     ]
    },
    {
     "name": "stdout",
     "output_type": "stream",
     "text": [
      "(2466, 15)\n",
      "(2466, 15)\n"
     ]
    },
    {
     "name": "stderr",
     "output_type": "stream",
     "text": [
      "[*********************100%%**********************]  1 of 1 completed\n",
      "[*********************100%%**********************]  1 of 1 completed"
     ]
    },
    {
     "name": "stdout",
     "output_type": "stream",
     "text": [
      "(2466, 15)\n"
     ]
    },
    {
     "name": "stderr",
     "output_type": "stream",
     "text": [
      "\n",
      "[*********************100%%**********************]  1 of 1 completed"
     ]
    },
    {
     "name": "stdout",
     "output_type": "stream",
     "text": [
      "(2466, 15)\n"
     ]
    },
    {
     "name": "stderr",
     "output_type": "stream",
     "text": [
      "\n"
     ]
    },
    {
     "name": "stdout",
     "output_type": "stream",
     "text": [
      "(2466, 15)\n"
     ]
    },
    {
     "name": "stderr",
     "output_type": "stream",
     "text": [
      "[*********************100%%**********************]  1 of 1 completed\n",
      "[*********************100%%**********************]  1 of 1 completed"
     ]
    },
    {
     "name": "stdout",
     "output_type": "stream",
     "text": [
      "(2466, 15)\n"
     ]
    },
    {
     "name": "stderr",
     "output_type": "stream",
     "text": [
      "\n",
      "[*********************100%%**********************]  1 of 1 completed"
     ]
    },
    {
     "name": "stdout",
     "output_type": "stream",
     "text": [
      "(2466, 15)\n"
     ]
    },
    {
     "name": "stderr",
     "output_type": "stream",
     "text": [
      "\n"
     ]
    },
    {
     "name": "stdout",
     "output_type": "stream",
     "text": [
      "(2466, 15)\n"
     ]
    },
    {
     "name": "stderr",
     "output_type": "stream",
     "text": [
      "[*********************100%%**********************]  1 of 1 completed\n",
      "[*********************100%%**********************]  1 of 1 completed"
     ]
    },
    {
     "name": "stdout",
     "output_type": "stream",
     "text": [
      "(2466, 15)\n",
      "(2466, 15)\n"
     ]
    },
    {
     "name": "stderr",
     "output_type": "stream",
     "text": [
      "\n",
      "[*********************100%%**********************]  1 of 1 completed\n",
      "[*********************100%%**********************]  1 of 1 completed"
     ]
    },
    {
     "name": "stdout",
     "output_type": "stream",
     "text": [
      "(2466, 15)\n",
      "(2466, 15)\n"
     ]
    },
    {
     "name": "stderr",
     "output_type": "stream",
     "text": [
      "\n"
     ]
    }
   ],
   "source": [
    "# could probably replace with just using evaluate_lstm() on the test data then copy code from above to visualize returns and accuracy\n",
    "\n",
    "from sklearn.preprocessing import StandardScaler\n",
    "df_pred_list = []\n",
    "for j in range(7, 10):\n",
    "    tickers = ['XOM', 'CVX', 'COP', 'NEE', 'SO', 'EOG', 'DUK', 'MPC', 'SLB', 'PSX']\n",
    "    start = '2014-05-06'\n",
    "    end = f'2024-05-0{j}'\n",
    "\n",
    "    X_train_list = []\n",
    "    y_train_list = []\n",
    "    X_test_list = []\n",
    "    y_test_list = []\n",
    "    X_scalers = []\n",
    "    y_scalers = []\n",
    "    for t in tickers:\n",
    "        ticker_data = yf.Ticker(t);\n",
    "        #data = ticker_data.history(period=period)\n",
    "        data = yf.download(t, start=start, end=end);\n",
    "\n",
    "        # Calculate moving averages and std\n",
    "        data['SMA_20'] = data['Close'].rolling(window=20).mean()\n",
    "        data['SMA_50'] = data['Close'].rolling(window=50).mean()\n",
    "        data['Std_Dev'] = data['Close'].rolling(window=20).std()\n",
    "\n",
    "        # Calculate the z-score\n",
    "        data['Z_Score'] = (data['Close'] - data['SMA_20']) / data['Std_Dev']\n",
    "\n",
    "        # Calculate RSI\n",
    "        delta = data['Close'].diff()\n",
    "        up = delta.clip(lower=0)\n",
    "        down = -1 * delta.clip(upper=0)\n",
    "        ema_up = up.ewm(com=13, adjust=False).mean()\n",
    "        ema_down = down.ewm(com=13, adjust=False).mean()\n",
    "        rs = ema_up / ema_down\n",
    "\n",
    "        data['RSI'] = 100 - (100 / (1 + rs))\n",
    "        # Calculate TTM EPS and P/E\n",
    "        eps = ticker_data.get_earnings_dates(limit=60)\n",
    "        eps.index = eps.index.date\n",
    "        eps = eps.loc[~eps.index.duplicated(keep='first'), :]\n",
    "        data.index = data.index.date\n",
    "        eps = eps[(eps.index >= (data.index[0]-relativedelta(years=1))) & (eps.index <= data.index[-1])]\n",
    "        if t == 'DUK':\n",
    "            eps.loc[eps.index == pd.to_datetime('2024-05-07').date(), 'Reported EPS'] = 1.44\n",
    "        eps = eps.iloc[::-1]\n",
    "        eps['TTM'] = eps['Reported EPS'].rolling(window=4).sum()\n",
    "        \n",
    "        \n",
    "        idx = pd.date_range(eps.index[0], eps.index[-1])\n",
    "        eps = eps.reindex(idx.date, fill_value=np.nan)\n",
    "        data['TTM_EPS'] = eps['TTM'].copy()\n",
    "        data[data['TTM_EPS'].notna()]\n",
    "        data['TTM_EPS'] = data['TTM_EPS'].ffill()\n",
    "        data['TTM_EPS'] = data['TTM_EPS'].fillna(eps['TTM'].loc[eps['TTM'].notna()].iloc[0])\n",
    "        data['TTM_P/E'] = data['Close'] / data['TTM_EPS']\n",
    "\n",
    "        #X_test_list.append(data.iloc[-1])\n",
    "\n",
    "        # Calculate the daily returns\n",
    "        data['Returns'] = data['Close'].pct_change()\n",
    "\n",
    "        # Drop any NaNs\n",
    "\n",
    "        # If stock price goes up or down\n",
    "        data['Target'] = data['Close'].shift(-1)\n",
    "\n",
    "        #data = data.dropna()\n",
    "        #features = ['Ticker', 'SMA_20', 'SMA_50', 'Std_Dev', 'Z_Score', 'RSI', 'Returns']\n",
    "        X = data.loc[:, data.columns != 'Target']\n",
    "        y = data.iloc[:, (data.shape[1]-1):(data.shape[1])]\n",
    "        X = X.dropna()\n",
    "        #X_train, X_test, y_train, y_test = train_test_split(X, y, test_size=test_size, random_state=42, shuffle=False)\n",
    "        \n",
    "        ss1 = StandardScaler()\n",
    "        ss2 = StandardScaler()\n",
    "\n",
    "        X_test_ss = pd.DataFrame(ss1.fit_transform(X), index=X.index, columns=X.columns) # fit ss and transform X_train\n",
    "        y_test_ss = pd.DataFrame(ss2.fit_transform(y), index=y.index, columns=y.columns) # fit mm and transform y_train\n",
    "\n",
    "        X_test_ss['Ticker'] = t\n",
    "        print(X_train_ss.shape)\n",
    "        X_test_list.append(X_test_ss)\n",
    "        y_test_list.append(y_test_ss)\n",
    "        X_scalers.append(ss1)\n",
    "        y_scalers.append(ss2)\n",
    "    batch_size = X_test_list[0].shape[0]\n",
    "\n",
    "    features = ['SMA_20', 'SMA_50', 'Std_Dev', 'Z_Score', 'RSI', 'Close', 'TTM_P/E']\n",
    "    next_day_predict_list = []\n",
    "\n",
    "    for i, test in enumerate(X_test_list):\n",
    "        X_test_tensors = Variable(torch.Tensor(np.array(test[features])))\n",
    "        X_test_final = torch.reshape(X_test_tensors, (X_test_tensors.shape[0], 1, X_test_tensors.shape[1]))\n",
    "        predict = lstm_live(X_test_final).data.numpy()\n",
    "        predict = y_scalers[i].inverse_transform(predict)\n",
    "        predicted_price = pd.DataFrame(predict)\n",
    "\n",
    "        cols = test.columns[test.columns != 'Ticker']\n",
    "        test = pd.DataFrame(X_scalers[i].inverse_transform(test[cols]), index=test.index, columns=cols)\n",
    "\n",
    "        predicted_price.columns = ['Predicted_Price']\n",
    "        predicted_price.size\n",
    "        idx = test.index[:predicted_price.size]\n",
    "        predicted_price.index = idx\n",
    "\n",
    "        test = pd.concat([test, predicted_price], ignore_index=False, axis=1)\n",
    "        test['Predicted_Returns'] = test['Predicted_Price'].pct_change()\n",
    "        test['Predicted_Signal'] = (test['Predicted_Returns'] > 0)*1\n",
    "        test['Actual_Signal'] = (test['Returns'].shift(-1) > 0)*1\n",
    "        test['Ticker'] = tickers[i]\n",
    "\n",
    "        X_test_list[i] = test\n",
    "        test = test.loc[test.index == pd.to_datetime(f'2024-05-0{j-1}').date(), :]\n",
    "        next_day_predict_list.append(test[['Ticker', 'Close', 'Predicted_Price', 'Predicted_Returns', 'Predicted_Signal', 'Actual_Signal']])\n",
    "        \n",
    "    df_pred_list.append(pd.concat(next_day_predict_list))\n"
   ]
  },
  {
   "cell_type": "markdown",
   "metadata": {},
   "source": [
    "## Concluding Discussion\n",
    "\n",
    "*    In what ways did our project work?\n",
    "*    Did we meet the goals that we set at the beginning of the project?\n",
    "*    How do our results compare to the results of others who have also studied similar problems?\n",
    "*    If we had more time, data, or computational resources, what might we do differently in order to improve further?\n",
    "\n",
    "Our project was a success in the sense that we constructed a model that is profitable and more accurate than our benchmarks. We didn't take the same approach as we initially expected of using alternative data, instead using more conventional features, but the ultimate goal was accuracy and profitability, so we aren't concerned by this change in methodology. We had substantially lower accuracy than @gunduzEfficientPrediction2021 , who achieved accuracy of up to 0.675. There are many factors that could have contributed to this difference, including time frames (Gunduz used hourly data vs. our daily data), company geographies (Gunduz studied companies on the Borsa Istanbul), and number of features (Gunduz created a substantially greater number of features).\n",
    "\n",
    "There are a two main key assumptions worth noting. Our tests above make two simplifying assumptions about trading. First, we assume the entire portfolio enters every trade, which any reasonable asset manager would think is incredibly reckless and is a major risk management failure. Second, we  assume  we are able to buy and sell stocks exactly at their closing price on a given day. This isn't as problematic an assumption as the first, but it's still an assumption that may not reflect real-world circumstances, especially when trading small stocks with low trading volumes or, more generally, when trading with enough capital to influence stock prices.\n",
    "\n",
    "If we had more time, data, and computational resources, we would have explored creating and filtering a substantially greater number of features. We also would have liked to have worked with larger baskets of companies. We chose energy companies based on intuition that training a model on data from the same industry would result in better predictions. "
   ]
  },
  {
   "cell_type": "markdown",
   "metadata": {},
   "source": [
    "## Group Contributions Statement"
   ]
  },
  {
   "cell_type": "markdown",
   "metadata": {},
   "source": [
    "Andre did research on RFE using logistic regression, random forest, and support vector machine before pivoting to an LSTM [axiao_research.ipynb](/Users/andrexiao/Documents/Spring\\ 2024/Machine\\ Learning/cs-451-quant-project/project_post axiao_research.py). He wrote the source code for the data preparation in `lstm_data.py`, the LSTM model in `lstm_model.py`, and the evaluation. He wrote the code for the plots for comparing cumulative returns and the code for calculating the accuracy of the strategy and the benchmarks.\n",
    "\n",
    "Donovan provided the initial research and the code for calculating the features `SMA_20`, `SMA_50`, `RSI`, `Z_Score`, and `Std_Dev`. He provided visualizations for the moving averages and performed inital tests using logistic regression in [dwood_test.ipynb](./dwood_test.ipynb). He wrote the data section.\n",
    "\n",
    "James worked on an early analysis using Google Trends data in `prelim-analysis.ipynb`, which we pivoted away from after realizing the limited supply of daily data. He created the presentation and wrote the abstract, the introduction, the values, and the conclusion sections."
   ]
  }
 ],
 "metadata": {
  "kernelspec": {
   "display_name": "ml-0451",
   "language": "python",
   "name": "python3"
  },
  "language_info": {
   "codemirror_mode": {
    "name": "ipython",
    "version": 3
   },
   "file_extension": ".py",
   "mimetype": "text/x-python",
   "name": "python",
   "nbconvert_exporter": "python",
   "pygments_lexer": "ipython3",
   "version": "3.9.18"
  }
 },
 "nbformat": 4,
 "nbformat_minor": 2
}
