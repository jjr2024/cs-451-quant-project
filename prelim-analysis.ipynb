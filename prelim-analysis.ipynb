{
 "cells": [
  {
   "cell_type": "code",
   "execution_count": 73,
   "metadata": {},
   "outputs": [
    {
     "data": {
      "text/html": [
       "<div>\n",
       "<style scoped>\n",
       "    .dataframe tbody tr th:only-of-type {\n",
       "        vertical-align: middle;\n",
       "    }\n",
       "\n",
       "    .dataframe tbody tr th {\n",
       "        vertical-align: top;\n",
       "    }\n",
       "\n",
       "    .dataframe thead th {\n",
       "        text-align: right;\n",
       "    }\n",
       "</style>\n",
       "<table border=\"1\" class=\"dataframe\">\n",
       "  <thead>\n",
       "    <tr style=\"text-align: right;\">\n",
       "      <th></th>\n",
       "      <th>Date</th>\n",
       "      <th>Open</th>\n",
       "      <th>Close</th>\n",
       "      <th>Google Trends</th>\n",
       "      <th>Previous GT</th>\n",
       "      <th>Volume</th>\n",
       "      <th>TTM EPS</th>\n",
       "      <th>TTM PE</th>\n",
       "    </tr>\n",
       "  </thead>\n",
       "  <tbody>\n",
       "    <tr>\n",
       "      <th>21</th>\n",
       "      <td>3/20/2024</td>\n",
       "      <td>133.04</td>\n",
       "      <td>139.99</td>\n",
       "      <td>54</td>\n",
       "      <td>48.0</td>\n",
       "      <td>2432394</td>\n",
       "      <td>12.03</td>\n",
       "      <td>11.64</td>\n",
       "    </tr>\n",
       "    <tr>\n",
       "      <th>47</th>\n",
       "      <td>2/12/2024</td>\n",
       "      <td>108.14</td>\n",
       "      <td>110.08</td>\n",
       "      <td>39</td>\n",
       "      <td>38.0</td>\n",
       "      <td>1554139</td>\n",
       "      <td>12.10</td>\n",
       "      <td>9.10</td>\n",
       "    </tr>\n",
       "    <tr>\n",
       "      <th>30</th>\n",
       "      <td>3/7/2024</td>\n",
       "      <td>120.24</td>\n",
       "      <td>124.00</td>\n",
       "      <td>52</td>\n",
       "      <td>48.0</td>\n",
       "      <td>1152647</td>\n",
       "      <td>12.03</td>\n",
       "      <td>10.31</td>\n",
       "    </tr>\n",
       "    <tr>\n",
       "      <th>32</th>\n",
       "      <td>3/5/2024</td>\n",
       "      <td>123.14</td>\n",
       "      <td>122.02</td>\n",
       "      <td>54</td>\n",
       "      <td>61.0</td>\n",
       "      <td>1171398</td>\n",
       "      <td>12.03</td>\n",
       "      <td>10.14</td>\n",
       "    </tr>\n",
       "    <tr>\n",
       "      <th>4</th>\n",
       "      <td>4/15/2024</td>\n",
       "      <td>126.96</td>\n",
       "      <td>123.36</td>\n",
       "      <td>46</td>\n",
       "      <td>42.0</td>\n",
       "      <td>1090261</td>\n",
       "      <td>12.03</td>\n",
       "      <td>10.25</td>\n",
       "    </tr>\n",
       "  </tbody>\n",
       "</table>\n",
       "</div>"
      ],
      "text/plain": [
       "         Date    Open   Close  Google Trends  Previous GT   Volume  TTM EPS  \\\n",
       "21  3/20/2024  133.04  139.99             54         48.0  2432394    12.03   \n",
       "47  2/12/2024  108.14  110.08             39         38.0  1554139    12.10   \n",
       "30   3/7/2024  120.24  124.00             52         48.0  1152647    12.03   \n",
       "32   3/5/2024  123.14  122.02             54         61.0  1171398    12.03   \n",
       "4   4/15/2024  126.96  123.36             46         42.0  1090261    12.03   \n",
       "\n",
       "    TTM PE  \n",
       "21   11.64  \n",
       "47    9.10  \n",
       "30   10.31  \n",
       "32   10.14  \n",
       "4    10.25  "
      ]
     },
     "execution_count": 73,
     "metadata": {},
     "output_type": "execute_result"
    }
   ],
   "source": [
    "#Importing the data and storing it in variable df_all\n",
    "\n",
    "import pandas as pd\n",
    "from sklearn.model_selection import train_test_split\n",
    "df_all = pd.read_csv(\"crox-early-data.csv\")\n",
    "\n",
    "df_all = df_all.dropna()\n",
    "\n",
    "X = df_all.drop(columns=['Close Higher'])\n",
    "y = df_all['Close Higher']\n",
    "\n",
    "X_train, X_test, y_train, y_test = train_test_split(X, y, test_size=0.2, random_state=451)\n",
    "X_train.head()"
   ]
  },
  {
   "cell_type": "code",
   "execution_count": 74,
   "metadata": {},
   "outputs": [
    {
     "data": {
      "text/html": [
       "<div>\n",
       "<style scoped>\n",
       "    .dataframe tbody tr th:only-of-type {\n",
       "        vertical-align: middle;\n",
       "    }\n",
       "\n",
       "    .dataframe tbody tr th {\n",
       "        vertical-align: top;\n",
       "    }\n",
       "\n",
       "    .dataframe thead th {\n",
       "        text-align: right;\n",
       "    }\n",
       "</style>\n",
       "<table border=\"1\" class=\"dataframe\">\n",
       "  <thead>\n",
       "    <tr style=\"text-align: right;\">\n",
       "      <th></th>\n",
       "      <th>Open</th>\n",
       "      <th>Close</th>\n",
       "      <th>Google Trends</th>\n",
       "      <th>Previous GT</th>\n",
       "      <th>Volume</th>\n",
       "      <th>TTM EPS</th>\n",
       "      <th>TTM PE</th>\n",
       "    </tr>\n",
       "    <tr>\n",
       "      <th>Close Higher</th>\n",
       "      <th></th>\n",
       "      <th></th>\n",
       "      <th></th>\n",
       "      <th></th>\n",
       "      <th></th>\n",
       "      <th></th>\n",
       "      <th></th>\n",
       "    </tr>\n",
       "  </thead>\n",
       "  <tbody>\n",
       "    <tr>\n",
       "      <th>0</th>\n",
       "      <td>122.017931</td>\n",
       "      <td>120.197931</td>\n",
       "      <td>45.620690</td>\n",
       "      <td>45.793103</td>\n",
       "      <td>1.201881e+06</td>\n",
       "      <td>12.054138</td>\n",
       "      <td>9.973793</td>\n",
       "    </tr>\n",
       "    <tr>\n",
       "      <th>1</th>\n",
       "      <td>120.213030</td>\n",
       "      <td>122.064848</td>\n",
       "      <td>45.424242</td>\n",
       "      <td>44.636364</td>\n",
       "      <td>1.317298e+06</td>\n",
       "      <td>12.053333</td>\n",
       "      <td>10.129394</td>\n",
       "    </tr>\n",
       "  </tbody>\n",
       "</table>\n",
       "</div>"
      ],
      "text/plain": [
       "                    Open       Close  Google Trends  Previous GT  \\\n",
       "Close Higher                                                       \n",
       "0             122.017931  120.197931      45.620690    45.793103   \n",
       "1             120.213030  122.064848      45.424242    44.636364   \n",
       "\n",
       "                    Volume    TTM EPS     TTM PE  \n",
       "Close Higher                                      \n",
       "0             1.201881e+06  12.054138   9.973793  \n",
       "1             1.317298e+06  12.053333  10.129394  "
      ]
     },
     "execution_count": 74,
     "metadata": {},
     "output_type": "execute_result"
    }
   ],
   "source": [
    "df_all.groupby(\"Close Higher\").mean(numeric_only=True)"
   ]
  },
  {
   "cell_type": "code",
   "execution_count": 75,
   "metadata": {},
   "outputs": [
    {
     "data": {
      "text/plain": [
       "'def prepare_data(df):\\n  df = df_all.drop([\"loan_grade\"], axis = 1)\\n  df = df.dropna()\\n  le.fit(df_all[\"person_home_ownership\"])\\n  df[\"person_home_ownership\"] = le.transform(df[\"person_home_ownership\"])\\n  le.fit(df_all[\"loan_intent\"])\\n  df[\"loan_intent\"] = le.transform(df[\"loan_intent\"])\\n  y = df[\"loan_status\"]\\n  df = df.drop([\"loan_status\"], axis = 1)\\n  df = pd.get_dummies(df)\\n  return df, y\\n\\nX_train, y_train = prepare_data(df_all)\\ndf_all = df_all.dropna()'"
      ]
     },
     "execution_count": 75,
     "metadata": {},
     "output_type": "execute_result"
    }
   ],
   "source": [
    "from sklearn.preprocessing import LabelEncoder\n",
    "le = LabelEncoder()\n",
    "\n",
    "\"\"\"def prepare_data(df):\n",
    "  df = df_all.drop([\"loan_grade\"], axis = 1)\n",
    "  df = df.dropna()\n",
    "  le.fit(df_all[\"person_home_ownership\"])\n",
    "  df[\"person_home_ownership\"] = le.transform(df[\"person_home_ownership\"])\n",
    "  le.fit(df_all[\"loan_intent\"])\n",
    "  df[\"loan_intent\"] = le.transform(df[\"loan_intent\"])\n",
    "  y = df[\"loan_status\"]\n",
    "  df = df.drop([\"loan_status\"], axis = 1)\n",
    "  df = pd.get_dummies(df)\n",
    "  return df, y\n",
    "\n",
    "X_train, y_train = prepare_data(df_all)\n",
    "df_all = df_all.dropna()\"\"\""
   ]
  },
  {
   "cell_type": "code",
   "execution_count": 76,
   "metadata": {},
   "outputs": [
    {
     "data": {
      "text/plain": [
       "array([-0.05606773,  0.38771535])"
      ]
     },
     "execution_count": 76,
     "metadata": {},
     "output_type": "execute_result"
    }
   ],
   "source": [
    "#Choosing features\n",
    "from sklearn.linear_model import LogisticRegression\n",
    "\n",
    "LR = LogisticRegression()\n",
    "\n",
    "cols = [\"Previous GT\", \"TTM PE\"]\n",
    "\n",
    "LR.fit(X_train[cols], y_train)\n",
    "LR.score(X_train[cols], y_train)\n",
    "LR.coef_[0]"
   ]
  },
  {
   "cell_type": "code",
   "execution_count": 77,
   "metadata": {},
   "outputs": [],
   "source": [
    "#This function, taken from the week 2 lecture notes and just slightly modified to allow for a third x variable, calculates the risk score for a borrower. \n",
    "def linear_score(w, x0, x1):\n",
    "    return w[0]*x0 + w[1]*x1"
   ]
  },
  {
   "cell_type": "code",
   "execution_count": 78,
   "metadata": {},
   "outputs": [
    {
     "data": {
      "text/plain": [
       "0.532258064516129"
      ]
     },
     "execution_count": 78,
     "metadata": {},
     "output_type": "execute_result"
    }
   ],
   "source": [
    "#Predict makes binary predictions for data using a supplied score function with weights w and a supplied threshold. Taken from lecture notes from week 2.\n",
    "#We begin with a 0 threshold but later on test others to find an optimal threshold\n",
    "\n",
    "t = 0\n",
    "\n",
    "def predict(score_fun, w, threshold, df):\n",
    "    \"\"\"\n",
    "    make binary predictions for data df using a supplied score function with weights w and supplied threshold. \n",
    "    \"\"\"\n",
    "    scores = score_fun(w, df[\"Previous GT\"], df[\"TTM PE\"])\n",
    "    return 1*(scores > threshold)\n",
    "\n",
    "df_all[\"decision\"] = predict(linear_score, LR.coef_[0], t, df_all)\n",
    "(df_all[\"decision\"] == df_all[\"Close Higher\"]).mean()"
   ]
  }
 ],
 "metadata": {
  "kernelspec": {
   "display_name": "ml-0451",
   "language": "python",
   "name": "python3"
  },
  "language_info": {
   "codemirror_mode": {
    "name": "ipython",
    "version": 3
   },
   "file_extension": ".py",
   "mimetype": "text/x-python",
   "name": "python",
   "nbconvert_exporter": "python",
   "pygments_lexer": "ipython3",
   "version": "3.9.18"
  }
 },
 "nbformat": 4,
 "nbformat_minor": 2
}
