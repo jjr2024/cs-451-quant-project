{
 "cells": [
  {
   "cell_type": "code",
   "execution_count": 105,
   "metadata": {},
   "outputs": [
    {
     "data": {
      "text/html": [
       "<div>\n",
       "<style scoped>\n",
       "    .dataframe tbody tr th:only-of-type {\n",
       "        vertical-align: middle;\n",
       "    }\n",
       "\n",
       "    .dataframe tbody tr th {\n",
       "        vertical-align: top;\n",
       "    }\n",
       "\n",
       "    .dataframe thead th {\n",
       "        text-align: right;\n",
       "    }\n",
       "</style>\n",
       "<table border=\"1\" class=\"dataframe\">\n",
       "  <thead>\n",
       "    <tr style=\"text-align: right;\">\n",
       "      <th></th>\n",
       "      <th>Date</th>\n",
       "      <th>Open</th>\n",
       "      <th>Close</th>\n",
       "      <th>Google Trends</th>\n",
       "      <th>Previous GT</th>\n",
       "      <th>Volume</th>\n",
       "      <th>TTM EPS</th>\n",
       "      <th>TTM PE</th>\n",
       "    </tr>\n",
       "  </thead>\n",
       "  <tbody>\n",
       "    <tr>\n",
       "      <th>54</th>\n",
       "      <td>2/1/2024</td>\n",
       "      <td>103.04</td>\n",
       "      <td>100.81</td>\n",
       "      <td>46</td>\n",
       "      <td>41.0</td>\n",
       "      <td>1759214</td>\n",
       "      <td>12.10</td>\n",
       "      <td>8.33</td>\n",
       "    </tr>\n",
       "    <tr>\n",
       "      <th>19</th>\n",
       "      <td>3/22/2024</td>\n",
       "      <td>139.54</td>\n",
       "      <td>141.62</td>\n",
       "      <td>54</td>\n",
       "      <td>54.0</td>\n",
       "      <td>1111254</td>\n",
       "      <td>12.03</td>\n",
       "      <td>11.77</td>\n",
       "    </tr>\n",
       "    <tr>\n",
       "      <th>31</th>\n",
       "      <td>3/6/2024</td>\n",
       "      <td>123.50</td>\n",
       "      <td>120.39</td>\n",
       "      <td>48</td>\n",
       "      <td>54.0</td>\n",
       "      <td>689700</td>\n",
       "      <td>12.03</td>\n",
       "      <td>10.01</td>\n",
       "    </tr>\n",
       "    <tr>\n",
       "      <th>58</th>\n",
       "      <td>1/26/2024</td>\n",
       "      <td>102.45</td>\n",
       "      <td>102.96</td>\n",
       "      <td>35</td>\n",
       "      <td>35.0</td>\n",
       "      <td>1639558</td>\n",
       "      <td>12.10</td>\n",
       "      <td>8.51</td>\n",
       "    </tr>\n",
       "    <tr>\n",
       "      <th>17</th>\n",
       "      <td>3/26/2024</td>\n",
       "      <td>142.14</td>\n",
       "      <td>140.05</td>\n",
       "      <td>51</td>\n",
       "      <td>48.0</td>\n",
       "      <td>1023328</td>\n",
       "      <td>12.03</td>\n",
       "      <td>11.64</td>\n",
       "    </tr>\n",
       "  </tbody>\n",
       "</table>\n",
       "</div>"
      ],
      "text/plain": [
       "         Date    Open   Close  Google Trends  Previous GT   Volume  TTM EPS  \\\n",
       "54   2/1/2024  103.04  100.81             46         41.0  1759214    12.10   \n",
       "19  3/22/2024  139.54  141.62             54         54.0  1111254    12.03   \n",
       "31   3/6/2024  123.50  120.39             48         54.0   689700    12.03   \n",
       "58  1/26/2024  102.45  102.96             35         35.0  1639558    12.10   \n",
       "17  3/26/2024  142.14  140.05             51         48.0  1023328    12.03   \n",
       "\n",
       "    TTM PE  \n",
       "54    8.33  \n",
       "19   11.77  \n",
       "31   10.01  \n",
       "58    8.51  \n",
       "17   11.64  "
      ]
     },
     "execution_count": 105,
     "metadata": {},
     "output_type": "execute_result"
    }
   ],
   "source": [
    "#Importing the data and storing it in variable df_all\n",
    "\n",
    "import pandas as pd\n",
    "from sklearn.model_selection import train_test_split\n",
    "df_all = pd.read_csv(\"crox-early-data.csv\")\n",
    "\n",
    "df_all = df_all.dropna()\n",
    "\n",
    "df_train, df_test = train_test_split(df_all, test_size=0.3, random_state=1)\n",
    "X_train = df_train.drop(columns=['Close Higher'])\n",
    "y_train = df_train['Close Higher']\n",
    "\n",
    "X_test = df_test.drop(columns=['Close Higher'])\n",
    "y_test = df_test['Close Higher']\n",
    "\n",
    "X_train.head()"
   ]
  },
  {
   "cell_type": "code",
   "execution_count": 106,
   "metadata": {},
   "outputs": [
    {
     "data": {
      "text/html": [
       "<div>\n",
       "<style scoped>\n",
       "    .dataframe tbody tr th:only-of-type {\n",
       "        vertical-align: middle;\n",
       "    }\n",
       "\n",
       "    .dataframe tbody tr th {\n",
       "        vertical-align: top;\n",
       "    }\n",
       "\n",
       "    .dataframe thead th {\n",
       "        text-align: right;\n",
       "    }\n",
       "</style>\n",
       "<table border=\"1\" class=\"dataframe\">\n",
       "  <thead>\n",
       "    <tr style=\"text-align: right;\">\n",
       "      <th></th>\n",
       "      <th>Open</th>\n",
       "      <th>Close</th>\n",
       "      <th>Google Trends</th>\n",
       "      <th>Previous GT</th>\n",
       "      <th>Volume</th>\n",
       "      <th>TTM EPS</th>\n",
       "      <th>TTM PE</th>\n",
       "    </tr>\n",
       "    <tr>\n",
       "      <th>Close Higher</th>\n",
       "      <th></th>\n",
       "      <th></th>\n",
       "      <th></th>\n",
       "      <th></th>\n",
       "      <th></th>\n",
       "      <th></th>\n",
       "      <th></th>\n",
       "    </tr>\n",
       "  </thead>\n",
       "  <tbody>\n",
       "    <tr>\n",
       "      <th>0</th>\n",
       "      <td>122.017931</td>\n",
       "      <td>120.197931</td>\n",
       "      <td>45.620690</td>\n",
       "      <td>45.793103</td>\n",
       "      <td>1.201881e+06</td>\n",
       "      <td>12.054138</td>\n",
       "      <td>9.973793</td>\n",
       "    </tr>\n",
       "    <tr>\n",
       "      <th>1</th>\n",
       "      <td>120.213030</td>\n",
       "      <td>122.064848</td>\n",
       "      <td>45.424242</td>\n",
       "      <td>44.636364</td>\n",
       "      <td>1.317298e+06</td>\n",
       "      <td>12.053333</td>\n",
       "      <td>10.129394</td>\n",
       "    </tr>\n",
       "  </tbody>\n",
       "</table>\n",
       "</div>"
      ],
      "text/plain": [
       "                    Open       Close  Google Trends  Previous GT  \\\n",
       "Close Higher                                                       \n",
       "0             122.017931  120.197931      45.620690    45.793103   \n",
       "1             120.213030  122.064848      45.424242    44.636364   \n",
       "\n",
       "                    Volume    TTM EPS     TTM PE  \n",
       "Close Higher                                      \n",
       "0             1.201881e+06  12.054138   9.973793  \n",
       "1             1.317298e+06  12.053333  10.129394  "
      ]
     },
     "execution_count": 106,
     "metadata": {},
     "output_type": "execute_result"
    }
   ],
   "source": [
    "df_all.groupby(\"Close Higher\").mean(numeric_only=True)"
   ]
  },
  {
   "cell_type": "code",
   "execution_count": 108,
   "metadata": {},
   "outputs": [
    {
     "data": {
      "text/plain": [
       "array([-0.01149866,  0.06556216])"
      ]
     },
     "execution_count": 108,
     "metadata": {},
     "output_type": "execute_result"
    }
   ],
   "source": [
    "#Choosing features\n",
    "from sklearn.linear_model import LogisticRegression\n",
    "\n",
    "LR = LogisticRegression()\n",
    "\n",
    "cols = [\"Previous GT\", \"TTM PE\"]\n",
    "\n",
    "LR.fit(X_train[cols], y_train)\n",
    "LR.score(X_train[cols], y_train)\n",
    "LR.coef_[0]"
   ]
  },
  {
   "cell_type": "code",
   "execution_count": 109,
   "metadata": {},
   "outputs": [],
   "source": [
    "def linear_score(w, x0, x1):\n",
    "    return w[0]*x0 + w[1]*x1"
   ]
  },
  {
   "cell_type": "code",
   "execution_count": 110,
   "metadata": {},
   "outputs": [
    {
     "data": {
      "text/plain": [
       "0.5348837209302325"
      ]
     },
     "execution_count": 110,
     "metadata": {},
     "output_type": "execute_result"
    }
   ],
   "source": [
    "#Predict makes binary predictions for data using a supplied score function with weights w and a supplied threshold. Taken from lecture notes from week 2.\n",
    "#We begin with a 0 threshold but later on test others to find an optimal threshold\n",
    "\n",
    "t = 0\n",
    "\n",
    "def predict(score_fun, w, threshold, df):\n",
    "    \"\"\"\n",
    "    make binary predictions for data df using a supplied score function with weights w and supplied threshold. \n",
    "    \"\"\"\n",
    "    scores = score_fun(w, df[\"Previous GT\"], df[\"TTM PE\"])\n",
    "    return 1*(scores > threshold)\n",
    "\n",
    "df_train[\"decision\"] = predict(linear_score, LR.coef_[0], t, df_all)\n",
    "(df_train[\"decision\"] == df_train[\"Close Higher\"]).mean()"
   ]
  },
  {
   "cell_type": "code",
   "execution_count": 111,
   "metadata": {},
   "outputs": [
    {
     "data": {
      "text/plain": [
       "(-100.0, 0.5348837209302325)"
      ]
     },
     "execution_count": 111,
     "metadata": {},
     "output_type": "execute_result"
    },
    {
     "data": {
      "image/png": "[encoded data removed]",
      "text/plain": [
       "<Figure size 500x500 with 1 Axes>"
      ]
     },
     "metadata": {},
     "output_type": "display_data"
    }
   ],
   "source": [
    "import seaborn as sns\n",
    "import numpy as np\n",
    "import matplotlib.pyplot as plt\n",
    "\n",
    "\n",
    "iterations = 200\n",
    "predictions = []\n",
    "for i in range(iterations):\n",
    "    threshold = (-iterations/2)+(i)\n",
    "    df_train[\"decision\"] = predict(linear_score, LR.coef_[0], threshold, df_train)\n",
    "    predictions.append((threshold, (df_train[\"decision\"] == df_train[\"Close Higher\"]).mean()))\n",
    "\n",
    "\n",
    "predictions_df = pd.DataFrame(data=predictions)\n",
    "predictions_df.columns =['Threshold', 'Accuracy']\n",
    "\n",
    "sns.relplot(data=predictions_df, x=\"Threshold\", y=\"Accuracy\")\n",
    "\n",
    "t = predictions_df['Threshold'][predictions_df['Accuracy'].idxmax()]\n",
    "\n",
    "predictions_df['Threshold'][predictions_df['Accuracy'].idxmax()], predictions_df['Accuracy'].max()\n"
   ]
  },
  {
   "cell_type": "code",
   "execution_count": 112,
   "metadata": {},
   "outputs": [
    {
     "data": {
      "text/plain": [
       "0.5263157894736842"
      ]
     },
     "execution_count": 112,
     "metadata": {},
     "output_type": "execute_result"
    }
   ],
   "source": [
    "df_test[\"decision\"] = predict(linear_score, LR.coef_[0], t, df_test)\n",
    "(df_test[\"decision\"] == df_test[\"Close Higher\"]).mean()"
   ]
  }
 ],
 "metadata": {
  "kernelspec": {
   "display_name": "ml-0451",
   "language": "python",
   "name": "python3"
  },
  "language_info": {
   "codemirror_mode": {
    "name": "ipython",
    "version": 3
   },
   "file_extension": ".py",
   "mimetype": "text/x-python",
   "name": "python",
   "nbconvert_exporter": "python",
   "pygments_lexer": "ipython3",
   "version": "3.9.18"
  }
 },
 "nbformat": 4,
 "nbformat_minor": 2
}
